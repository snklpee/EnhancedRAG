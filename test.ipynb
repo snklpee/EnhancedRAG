{
 "cells": [
  {
   "cell_type": "markdown",
   "id": "790fc5b8",
   "metadata": {},
   "source": [
    "### Imports"
   ]
  },
  {
   "cell_type": "code",
   "execution_count": 1,
   "id": "7e277896",
   "metadata": {},
   "outputs": [],
   "source": [
    "from src.ingestion.loader import DocumentLoader\n",
    "from src.ingestion.chunker import DocumentChunker\n",
    "from src.ingestion.HuggingFaceEmbedder import HuggingFaceEmbedder\n",
    "from config.settings import settings"
   ]
  },
  {
   "cell_type": "markdown",
   "id": "6a03cd1b",
   "metadata": {},
   "source": [
    "### Document Loading"
   ]
  },
  {
   "cell_type": "code",
   "execution_count": 2,
   "id": "d8d929d9",
   "metadata": {},
   "outputs": [],
   "source": [
    "loader = DocumentLoader()"
   ]
  },
  {
   "cell_type": "code",
   "execution_count": 3,
   "id": "3a6e2ad6",
   "metadata": {},
   "outputs": [
    {
     "name": "stdout",
     "output_type": "stream",
     "text": [
      "[METRICS] list_filenames: time=0.00s, count=3\n"
     ]
    },
    {
     "data": {
      "text/plain": [
       "['Graph_Databases_for_Beginners.pdf',\n",
       " 'Project_4_Sankalp_Mane.pdf',\n",
       " 'requirements.txt']"
      ]
     },
     "execution_count": 3,
     "metadata": {},
     "output_type": "execute_result"
    }
   ],
   "source": [
    "files = loader.list_filenames(\"pdfs\")\n",
    "files"
   ]
  },
  {
   "cell_type": "code",
   "execution_count": 4,
   "id": "3bc70f77",
   "metadata": {},
   "outputs": [
    {
     "name": "stdout",
     "output_type": "stream",
     "text": [
      "[METRICS] load_documents: time=2.34s, count=70\n"
     ]
    }
   ],
   "source": [
    "docs = loader.load_documents(\"pdfs\",file_names=files)\n",
    "# print(type(docs[0].page_content))"
   ]
  },
  {
   "cell_type": "markdown",
   "id": "ab29a38c",
   "metadata": {},
   "source": [
    "### Chunking"
   ]
  },
  {
   "cell_type": "code",
   "execution_count": 5,
   "id": "e0a577bf",
   "metadata": {},
   "outputs": [],
   "source": [
    "chunker = DocumentChunker(\n",
    "    hf_embedding_model=\"sentence-transformers/all-mpnet-base-v2\",\n",
    "    chunk_size=300,\n",
    "    chunk_overlap=80\n",
    ")"
   ]
  },
  {
   "cell_type": "code",
   "execution_count": 6,
   "id": "88279a9e",
   "metadata": {},
   "outputs": [
    {
     "name": "stdout",
     "output_type": "stream",
     "text": [
      "[METRICS] chunk_documents: time=0.27s, count=122\n",
      "[METRICS] get_docs_token_count: time=0.10s, count=122\n"
     ]
    }
   ],
   "source": [
    "chunks = chunker.chunk_documents(docs)\n",
    "token_count = chunker.get_docs_token_count(chunks)"
   ]
  },
  {
   "cell_type": "code",
   "execution_count": 7,
   "id": "0a9a4caf",
   "metadata": {},
   "outputs": [
    {
     "name": "stdout",
     "output_type": "stream",
     "text": [
      "122\n",
      "33989\n"
     ]
    }
   ],
   "source": [
    "print(len(chunks))\n",
    "print(token_count)"
   ]
  },
  {
   "cell_type": "markdown",
   "id": "8538524c",
   "metadata": {},
   "source": [
    "### Embedding"
   ]
  },
  {
   "cell_type": "code",
   "execution_count": 8,
   "id": "5c0268db",
   "metadata": {},
   "outputs": [],
   "source": [
    "embedder = HuggingFaceEmbedder(\"sentence-transformers/all-mpnet-base-v2\")"
   ]
  },
  {
   "cell_type": "code",
   "execution_count": 9,
   "id": "060fd8e3",
   "metadata": {},
   "outputs": [
    {
     "name": "stdout",
     "output_type": "stream",
     "text": [
      "[METRICS] embed_query: time=0.15s, count=32\n",
      "dimension 768\n"
     ]
    }
   ],
   "source": [
    "v1  = embedder.embed_query(chunks[0].page_content)\n",
    "print(\"dimension\",len(v1))"
   ]
  },
  {
   "cell_type": "code",
   "execution_count": 10,
   "id": "33df6b8b",
   "metadata": {},
   "outputs": [
    {
     "name": "stdout",
     "output_type": "stream",
     "text": [
      "[METRICS] embed_documents: time=0.65s, count=32\n"
     ]
    }
   ],
   "source": [
    "embeddings = embedder.embed_documents(chunks[0].page_content)"
   ]
  },
  {
   "cell_type": "code",
   "execution_count": 13,
   "id": "7043d796",
   "metadata": {},
   "outputs": [],
   "source": [
    "texts = []\n",
    "for i in range(0,len(chunks)):\n",
    "    text = chunks[i].page_content\n",
    "    texts.append(text)"
   ]
  },
  {
   "cell_type": "code",
   "execution_count": 17,
   "id": "ef834188",
   "metadata": {},
   "outputs": [
    {
     "name": "stdout",
     "output_type": "stream",
     "text": [
      "[METRICS] embed_documents: time=54.94s, count=33989\n"
     ]
    },
    {
     "name": "stderr",
     "output_type": "stream",
     "text": [
      "/tmp/ipykernel_207407/2023240796.py:1: RuntimeWarning: coroutine 'Embeddings.aembed_documents' was never awaited\n",
      "  other = embedder.embed_documents(texts)\n",
      "RuntimeWarning: Enable tracemalloc to get the object allocation traceback\n"
     ]
    }
   ],
   "source": [
    "other = embedder.embed_documents(texts)"
   ]
  },
  {
   "cell_type": "code",
   "execution_count": 19,
   "id": "bb3bcc95",
   "metadata": {},
   "outputs": [
    {
     "name": "stdout",
     "output_type": "stream",
     "text": [
      "[METRICS] embed_query: time=0.09s, count=4\n"
     ]
    }
   ],
   "source": [
    "import faiss\n",
    "from langchain_community.docstore.in_memory import InMemoryDocstore\n",
    "from langchain_community.vectorstores import FAISS\n",
    "from uuid import uuid4\n",
    "from langchain_core.documents import Document\n",
    "from langchain_community.vectorstores.utils import DistanceStrategy\n",
    "\n",
    "index = faiss.IndexFlatL2(len(embedder.embed_query(\"hello world\")))\n",
    "\n",
    "vector_store = FAISS(\n",
    "    embedding_function=embedder,\n",
    "    index=index,\n",
    "    docstore=InMemoryDocstore(),\n",
    "    index_to_docstore_id={},\n",
    "    distance_strategy=DistanceStrategy.COSINE\n",
    ")"
   ]
  },
  {
   "cell_type": "code",
   "execution_count": 20,
   "id": "dd704d55",
   "metadata": {},
   "outputs": [
    {
     "name": "stdout",
     "output_type": "stream",
     "text": [
      "[METRICS] embed_documents: time=53.23s, count=33989\n"
     ]
    },
    {
     "data": {
      "text/plain": [
       "['eb7c745e-9b17-4764-a3dd-431248a03326',\n",
       " '3a0b136a-30b6-4fbd-8176-62deded3da0f',\n",
       " 'a335d43e-9383-46fa-b3d4-81c403073044',\n",
       " '3d1ede65-772a-4d05-a8aa-df680cad92ce',\n",
       " '63ad2d3f-ce78-46a1-abad-d2ddaac85d77',\n",
       " '7ffadda4-67cb-43a0-85f1-0b49afdde4fb',\n",
       " '166db3db-0025-4cfb-b702-9524e53bbfc5',\n",
       " '6787978b-f895-49b3-ad96-f202707460f9',\n",
       " '203744b3-3a4d-4e11-8809-d7cbb056aaba',\n",
       " '17a5c391-c217-4667-ae0f-518ccc9a31b9',\n",
       " '7c9e88af-8a74-4cf2-abaa-6d1e6f8bce27',\n",
       " 'abc94eb6-f6bb-4bee-b544-0a36ca57d39f',\n",
       " 'd39210b4-9aab-4ce4-be5f-985b6af4077e',\n",
       " '4a626a30-7018-4ea6-bf65-89cb2a4851f6',\n",
       " '22b71c96-8c05-41ac-8df5-1e250bcde28b',\n",
       " '75d2141c-6a6e-4ad5-a1d9-d01a62f91c28',\n",
       " '94a01db3-5111-47f1-98ac-9d1b74793127',\n",
       " '5e10a849-ad83-43b9-acf0-38f16d20e452',\n",
       " '87ac2ee3-2c8e-4b93-9c06-2f7945adb7d2',\n",
       " '9153ac61-e3b7-4c95-8ec4-82d8fccfd9ad',\n",
       " 'bdc9224f-90b2-4a82-b5c7-92b6d83179ae',\n",
       " '2f04b832-296b-4c10-92fa-b3fe312dd34b',\n",
       " '65d90a78-634f-4af6-b475-ddca0c4248e7',\n",
       " '45dfbd85-5f43-4a2d-bca5-98235d962a1a',\n",
       " '1a0e5a60-6e92-40ba-99d0-50afe7c2ced3',\n",
       " '7abd11a9-6371-4884-9d89-e005ad0a6e57',\n",
       " 'b0c80121-881a-439a-9f91-aaa84abf55ef',\n",
       " 'c2eb962a-4f9f-483c-839c-3b9372c4669c',\n",
       " '586abe41-5700-4be2-92f0-4dbb1a8389d9',\n",
       " '1b3597b3-41b6-43e1-95c0-0e8d5c39e0b2',\n",
       " 'a267497c-7bb5-406a-b050-9b807d600f87',\n",
       " '0385dd21-aac2-4ce3-955b-7e6b0c1a5e70',\n",
       " 'cffa8fb6-9286-4965-a3c9-682cfcbee989',\n",
       " '16c77111-612c-460b-b15c-d22fef4b3aed',\n",
       " '1fd6cb94-c59d-4a47-ac15-d225381697ad',\n",
       " 'b46c9d45-055c-42a5-ac16-be4b523aed1e',\n",
       " '3ce96974-17fb-4e2b-abcb-05a7ab82c725',\n",
       " '561bf4d4-6179-4efb-9495-c6b28c29be6e',\n",
       " '8ee72de6-20ab-4bf2-89b9-49b94eb7f4e6',\n",
       " 'b11dd1ff-5baa-4d71-98d0-0a584500cb88',\n",
       " 'd3dd0796-ce62-4f42-8256-09851fde5438',\n",
       " '75ecbbac-cce3-4136-8670-06cf63aabd3c',\n",
       " '3f5e38b4-21b7-43a7-beb4-f2a2b8ff863a',\n",
       " '10e9a530-1fbe-47b8-ac65-357555fe883e',\n",
       " '3230d412-3285-4222-874a-2d664e66f157',\n",
       " 'ac9a9f36-e95d-4219-9bf4-033e0c52c373',\n",
       " '0c26ed8e-6c31-43c3-ae2d-4db47ba4e0e1',\n",
       " '7960bc1a-1cec-48a6-a2dc-5d46ce7112bd',\n",
       " '8b85e294-e9a7-4dd7-9721-beec91628e79',\n",
       " '999d7a3e-cc4d-4b0d-aa7d-42f7acf002f3',\n",
       " 'c5cbea6c-a08e-41ec-86f8-61ad1476fddf',\n",
       " '98359b19-4dea-41f8-908a-d5f542116dd8',\n",
       " 'a5603d50-2859-4166-97a8-f7f9579718be',\n",
       " 'b3441606-1a78-40da-b66c-0551412b6081',\n",
       " 'f9f935f4-05be-4f71-a1b9-15f187b7ee2e',\n",
       " 'afbd2d02-83f9-4905-9672-cb81d71bc2c5',\n",
       " '0d5d60e9-938e-4627-9f2d-1ec5d84235bb',\n",
       " '79137299-9dc4-4f76-8d7e-9355119cbc0a',\n",
       " 'ecb6b422-27ef-4c77-82fc-6b0c917b6352',\n",
       " 'd9e3b564-85bf-485f-8332-501ac181ad5c',\n",
       " '02f6a784-72b6-41f9-bd3e-11bcc6a6a8ab',\n",
       " '64b32c0e-e22d-40ac-a1e0-6f703e216cc3',\n",
       " 'baf87a3d-78f3-427d-8fc1-b24e18b032e6',\n",
       " '5a7e51ac-504d-4dd0-ad76-f1953306b87c',\n",
       " 'e95348f1-19f4-4dda-8278-7de988af5c2b',\n",
       " '49e4e486-ac2c-400a-ae3e-564a8921e898',\n",
       " 'f7d33162-dbac-42e2-8544-0604f5bb69e0',\n",
       " '03026491-9dac-43e3-ba03-7a7e5edb55e1',\n",
       " 'ee7a6530-4160-4fe1-97f3-16d00460c80c',\n",
       " '192e5478-2f5c-4d05-9acc-6c4e1b137266',\n",
       " '53c1754b-350b-4f3c-8797-c693b162fcc8',\n",
       " 'f4379e1e-b653-4afb-95f0-1f36d2c30c74',\n",
       " '45089fab-794d-483a-b1b6-10577c43b4df',\n",
       " '1ac69f58-c7e4-48ae-be90-e2194eb35d1d',\n",
       " '8655bb1c-e46f-4409-bcd1-74255aa21c3f',\n",
       " '436ce685-eb25-41de-8950-de647d131be8',\n",
       " '6005ca0f-dac0-4221-bce9-94ee1c733cad',\n",
       " 'ab4832b3-5401-45c5-b4f3-d1cbcd229946',\n",
       " '5ead15da-f1a6-4e8f-b5de-803a0013dc51',\n",
       " 'df30a651-d7ef-4680-85a9-fb9cf399346e',\n",
       " 'a14987fd-bb30-4db2-ac89-f39470dc33d3',\n",
       " '39f88c33-ffed-4d89-a2af-e172ba4054a0',\n",
       " 'f0b409e7-ba57-44ba-b3a8-67159888db53',\n",
       " '6b8b7a8e-d595-45f3-8408-9c9d8543f570',\n",
       " '8830e87b-e122-4f20-9066-586c4b87aa3c',\n",
       " '269dc063-2de3-42cb-a30a-cf562424515c',\n",
       " '29579b43-7082-4607-8f6b-91a5a714d9ef',\n",
       " '322b4fde-60e5-4810-b4bb-fffff6e89615',\n",
       " 'c027891b-e401-4598-b0c2-826080db1771',\n",
       " 'aa6002bb-796e-45b4-803c-1d42b4dd9037',\n",
       " '7ff38be2-b074-40fc-a63d-bad3be28a7c3',\n",
       " '75017227-6555-4fa5-b0c4-4e47efe36338',\n",
       " '66f60fd4-fa33-4c3a-846d-c360faab43ad',\n",
       " '35558745-c8e6-412c-815e-4f0c0f2544d2',\n",
       " '0b9ec965-f1b0-490c-baa9-2fbb559769ab',\n",
       " '00f493b3-6a09-4326-ae5a-fbf0cbd38891',\n",
       " 'cec2b4ab-f159-4bb7-8688-b779065b3a39',\n",
       " '840fd884-993c-4c6d-ac70-ba88946c932a',\n",
       " '77704fa0-8203-49cd-b281-20bdad3f0771',\n",
       " '4481b7bd-b5f9-4e85-ab45-5d818c0dbec5',\n",
       " '691d4323-9ba1-4f85-8497-cee755e221a1',\n",
       " 'f1cac125-4a2b-41ac-b2de-b3684aa4392a',\n",
       " '9f4fd50a-47e2-4233-b0f5-a354710bb24e',\n",
       " 'aebd073e-0cf3-4cd8-953e-9adf64a97fb3',\n",
       " '74490723-e573-4875-8ccf-4ec85f799090',\n",
       " '57e6bc00-8863-4b1f-afff-d6cc6c24ea13',\n",
       " 'fa6acd18-99be-4bb7-aa52-3309863010b3',\n",
       " '3aedf2e4-54b7-4c36-8982-d4d527080774',\n",
       " '59b60463-e932-4e41-8a05-29feaaf23b1d',\n",
       " 'b2d249c9-9e79-400f-ae13-1967f820333c',\n",
       " '84e6716c-535a-4e11-a177-2e156e6dee80',\n",
       " '79b76b12-cf87-48fb-8d59-c5b03bdf4133',\n",
       " 'e0df6c78-5adc-4217-8094-092b48f67440',\n",
       " '7d8b74d1-4e5c-4f5a-9f64-e453e58a20fd',\n",
       " '4fa4202d-339e-4cd2-af42-22ac6f23b870',\n",
       " '38be063f-e805-4503-9a83-759619edd09d',\n",
       " 'cb547c96-9ada-4edf-9242-97be1939b23d',\n",
       " 'ba6bb1c6-8628-4cb7-9c08-0266e3690b91',\n",
       " 'c9c87f69-7d0f-4d5d-950e-17967cf18e26',\n",
       " '71773d62-073e-48f4-8c6f-2dbb5eacd13b',\n",
       " '65faa101-e7a6-47d1-bbc5-f5219c3b6fce',\n",
       " 'a577a6f7-02ab-4ff8-b929-9ee3e87e37db']"
      ]
     },
     "execution_count": 20,
     "metadata": {},
     "output_type": "execute_result"
    }
   ],
   "source": [
    "uuids = [str(uuid4()) for _ in range(len(chunks))]\n",
    "vector_store.add_documents(documents=chunks, ids=uuids)"
   ]
  },
  {
   "cell_type": "code",
   "execution_count": 21,
   "id": "297433f7",
   "metadata": {},
   "outputs": [],
   "source": [
    "vector_store.save_local(folder_path=settings.FAISS_INDEXES, index_name=\"pdfs\")"
   ]
  },
  {
   "cell_type": "code",
   "execution_count": null,
   "id": "4a83cf5c",
   "metadata": {},
   "outputs": [],
   "source": [
    "# vector_store.load_local(folder_path=settings.FAISS_INDEXES, index_name=\"pdfs\", embeddings=embedder, allow_dangerous_deserialization=True)"
   ]
  }
 ],
 "metadata": {
  "kernelspec": {
   "display_name": ".venv",
   "language": "python",
   "name": "python3"
  },
  "language_info": {
   "codemirror_mode": {
    "name": "ipython",
    "version": 3
   },
   "file_extension": ".py",
   "mimetype": "text/x-python",
   "name": "python",
   "nbconvert_exporter": "python",
   "pygments_lexer": "ipython3",
   "version": "3.12.8"
  }
 },
 "nbformat": 4,
 "nbformat_minor": 5
}
