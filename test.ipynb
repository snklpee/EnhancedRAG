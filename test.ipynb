{
 "cells": [
  {
   "cell_type": "markdown",
   "id": "790fc5b8",
   "metadata": {},
   "source": [
    "### Imports"
   ]
  },
  {
   "cell_type": "code",
   "execution_count": 1,
   "id": "7e277896",
   "metadata": {},
   "outputs": [],
   "source": [
    "from src.ingestion.loader import DocumentLoader\n",
    "from src.ingestion.chunker import DocumentChunker\n",
    "from src.ingestion.HuggingFaceEmbedder import HuggingFaceEmbedder\n",
    "from config.settings import settings"
   ]
  },
  {
   "cell_type": "markdown",
   "id": "6a03cd1b",
   "metadata": {},
   "source": [
    "### Document Loading"
   ]
  },
  {
   "cell_type": "code",
   "execution_count": 2,
   "id": "d8d929d9",
   "metadata": {},
   "outputs": [],
   "source": [
    "loader = DocumentLoader()"
   ]
  },
  {
   "cell_type": "code",
   "execution_count": 3,
   "id": "3a6e2ad6",
   "metadata": {},
   "outputs": [
    {
     "data": {
      "text/plain": [
       "['Graph_Databases_for_Beginners.pdf',\n",
       " 'Project_4_Sankalp_Mane.pdf',\n",
       " 'requirements.txt']"
      ]
     },
     "execution_count": 3,
     "metadata": {},
     "output_type": "execute_result"
    }
   ],
   "source": [
    "files = loader.list_filenames(\"pdfs\")\n",
    "files"
   ]
  },
  {
   "cell_type": "code",
   "execution_count": 4,
   "id": "4370d5ab",
   "metadata": {},
   "outputs": [
    {
     "name": "stdout",
     "output_type": "stream",
     "text": [
      "[METRICS] load_directory: time=5.67s, count=70\n"
     ]
    }
   ],
   "source": [
    "doc = loader.load_directory(\"pdfs\")"
   ]
  },
  {
   "cell_type": "code",
   "execution_count": 5,
   "id": "3bc70f77",
   "metadata": {},
   "outputs": [],
   "source": [
    "docs = loader.load_documents(\"pdfs\",file_names=files)\n",
    "# print(type(docs[0].page_content))"
   ]
  },
  {
   "cell_type": "markdown",
   "id": "ab29a38c",
   "metadata": {},
   "source": [
    "### Chunking"
   ]
  },
  {
   "cell_type": "code",
   "execution_count": 10,
   "id": "e0a577bf",
   "metadata": {},
   "outputs": [
    {
     "name": "stdout",
     "output_type": "stream",
     "text": [
      "[METRICS] chunk_documents: time=0.74s, count=122\n"
     ]
    }
   ],
   "source": [
    "chunker = DocumentChunker(\n",
    "    hf_tokenizer_name=\"sentence-transformers/all-mpnet-base-v2\",\n",
    "    chunk_size=300,\n",
    "    chunk_overlap=80\n",
    ")\n",
    "chunks, token_count = chunker.chunk_documents(docs)"
   ]
  },
  {
   "cell_type": "code",
   "execution_count": 11,
   "id": "88279a9e",
   "metadata": {},
   "outputs": [
    {
     "name": "stdout",
     "output_type": "stream",
     "text": [
      "[METRICS] chunk_documents: time=0.43s, count=122\n"
     ]
    }
   ],
   "source": [
    "chunks, token_count = chunker.chunk_documents(docs)"
   ]
  },
  {
   "cell_type": "code",
   "execution_count": 12,
   "id": "0a9a4caf",
   "metadata": {},
   "outputs": [
    {
     "name": "stdout",
     "output_type": "stream",
     "text": [
      "122\n",
      "33989\n"
     ]
    }
   ],
   "source": [
    "print(len(chunks))\n",
    "print(token_count)"
   ]
  },
  {
   "cell_type": "markdown",
   "id": "8538524c",
   "metadata": {},
   "source": [
    "### Embedding"
   ]
  },
  {
   "cell_type": "code",
   "execution_count": null,
   "id": "5c0268db",
   "metadata": {},
   "outputs": [],
   "source": [
    "embedder = HuggingFaceEmbedder(\"sentence-transformers/all-mpnet-base-v2\")"
   ]
  },
  {
   "cell_type": "code",
   "execution_count": null,
   "id": "060fd8e3",
   "metadata": {},
   "outputs": [],
   "source": [
    "print(\"initialized embedder\")\n",
    "v1, dim = embedder.embed_query(chunks[0].page_content)\n",
    "print(\"dimension\",dim)"
   ]
  },
  {
   "cell_type": "code",
   "execution_count": 55,
   "id": "0a8ec631",
   "metadata": {},
   "outputs": [],
   "source": [
    "from typing import List"
   ]
  },
  {
   "cell_type": "code",
   "execution_count": 73,
   "id": "fcddbcc2",
   "metadata": {},
   "outputs": [],
   "source": [
    "from huggingface_hub import HfApi\n",
    "from huggingface_hub import login\n",
    "login(token=settings.HF_TOKEN.get_secret_value())\n",
    "hf_api = HfApi()\n",
    "\n",
    "def list_models(task: str,filter:str, sort:str = \"likes\" ,gated:bool = False, get_top: int = 10):\n",
    "    models = hf_api.list_models(\n",
    "        sort=sort,\n",
    "        task=task,\n",
    "        filter=filter,\n",
    "        gated=gated,\n",
    "        limit=get_top,)\n",
    "    filtered_models = [model.modelId for model in models]\n",
    "    \n",
    "    return filtered_models"
   ]
  },
  {
   "cell_type": "code",
   "execution_count": 74,
   "id": "0f71a84e",
   "metadata": {},
   "outputs": [
    {
     "data": {
      "text/plain": [
       "['sentence-transformers/all-MiniLM-L6-v2',\n",
       " 'BAAI/bge-m3',\n",
       " 'sentence-transformers/all-mpnet-base-v2',\n",
       " 'intfloat/multilingual-e5-large',\n",
       " 'jinaai/jina-embeddings-v3',\n",
       " 'sentence-transformers/paraphrase-multilingual-MiniLM-L12-v2',\n",
       " 'GanymedeNil/text2vec-large-chinese',\n",
       " 'jinaai/jina-embeddings-v2-base-en',\n",
       " 'nomic-ai/nomic-embed-text-v1.5',\n",
       " 'hkunlp/instructor-xl']"
      ]
     },
     "execution_count": 74,
     "metadata": {},
     "output_type": "execute_result"
    }
   ],
   "source": [
    "list_models(task=\"sentence-similarity\",filter=\"feature-extraction\")"
   ]
  },
  {
   "cell_type": "code",
   "execution_count": 79,
   "id": "459d82f9",
   "metadata": {},
   "outputs": [],
   "source": [
    "from src.utils.ModelLister import HuggingFaceModelLister"
   ]
  },
  {
   "cell_type": "code",
   "execution_count": 80,
   "id": "f3bc00be",
   "metadata": {},
   "outputs": [
    {
     "name": "stdout",
     "output_type": "stream",
     "text": [
      "[METRICS] list_models: time=0.51s, count=10\n"
     ]
    },
    {
     "data": {
      "text/plain": [
       "['sentence-transformers/all-MiniLM-L6-v2',\n",
       " 'BAAI/bge-m3',\n",
       " 'sentence-transformers/all-mpnet-base-v2',\n",
       " 'intfloat/multilingual-e5-large',\n",
       " 'jinaai/jina-embeddings-v3',\n",
       " 'sentence-transformers/paraphrase-multilingual-MiniLM-L12-v2',\n",
       " 'GanymedeNil/text2vec-large-chinese',\n",
       " 'jinaai/jina-embeddings-v2-base-en',\n",
       " 'nomic-ai/nomic-embed-text-v1.5',\n",
       " 'hkunlp/instructor-xl']"
      ]
     },
     "execution_count": 80,
     "metadata": {},
     "output_type": "execute_result"
    }
   ],
   "source": [
    "lister = HuggingFaceModelLister()\n",
    "\n",
    "lister.list_models(task=\"sentence-similarity\",filter=\"feature-extraction\")"
   ]
  },
  {
   "cell_type": "code",
   "execution_count": null,
   "id": "bb3bcc95",
   "metadata": {},
   "outputs": [],
   "source": []
  }
 ],
 "metadata": {
  "kernelspec": {
   "display_name": ".venv",
   "language": "python",
   "name": "python3"
  },
  "language_info": {
   "codemirror_mode": {
    "name": "ipython",
    "version": 3
   },
   "file_extension": ".py",
   "mimetype": "text/x-python",
   "name": "python",
   "nbconvert_exporter": "python",
   "pygments_lexer": "ipython3",
   "version": "3.12.8"
  }
 },
 "nbformat": 4,
 "nbformat_minor": 5
}
