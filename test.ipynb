{
 "cells": [
  {
   "cell_type": "markdown",
   "id": "790fc5b8",
   "metadata": {},
   "source": [
    "### Imports"
   ]
  },
  {
   "cell_type": "code",
   "execution_count": 2,
   "id": "3a0ede3e",
   "metadata": {},
   "outputs": [],
   "source": [
    "from typing import List, Tuple, Dict"
   ]
  },
  {
   "cell_type": "code",
   "execution_count": 1,
   "id": "7e277896",
   "metadata": {},
   "outputs": [],
   "source": [
    "from config.settings import settings"
   ]
  },
  {
   "cell_type": "markdown",
   "id": "6a03cd1b",
   "metadata": {},
   "source": [
    "### Document Loading"
   ]
  },
  {
   "cell_type": "code",
   "execution_count": 3,
   "id": "2ebce362",
   "metadata": {},
   "outputs": [],
   "source": [
    "from src.ingestion.DocumentLoader import DocumentLoader"
   ]
  },
  {
   "cell_type": "code",
   "execution_count": 4,
   "id": "d8d929d9",
   "metadata": {},
   "outputs": [],
   "source": [
    "loader = DocumentLoader()"
   ]
  },
  {
   "cell_type": "code",
   "execution_count": 5,
   "id": "2dc4b0a8",
   "metadata": {},
   "outputs": [],
   "source": [
    "folder_name = \"index\""
   ]
  },
  {
   "cell_type": "code",
   "execution_count": 6,
   "id": "3a6e2ad6",
   "metadata": {},
   "outputs": [
    {
     "name": "stdout",
     "output_type": "stream",
     "text": [
      "[METRICS] list_filenames: time=0.00s, count=1\n"
     ]
    },
    {
     "data": {
      "text/plain": [
       "['Graph_Databases_for_Beginners.pdf']"
      ]
     },
     "execution_count": 6,
     "metadata": {},
     "output_type": "execute_result"
    }
   ],
   "source": [
    "files = loader.list_filenames(folder_name)\n",
    "files"
   ]
  },
  {
   "cell_type": "code",
   "execution_count": 7,
   "id": "3bc70f77",
   "metadata": {},
   "outputs": [
    {
     "data": {
      "application/vnd.jupyter.widget-view+json": {
       "model_id": "7c5551c4d7274ee49e1f1944ffaaf146",
       "version_major": 2,
       "version_minor": 0
      },
      "text/plain": [
       "Files:   0%|          | 0/1 [00:00<?, ?file/s]"
      ]
     },
     "metadata": {},
     "output_type": "display_data"
    },
    {
     "name": "stdout",
     "output_type": "stream",
     "text": [
      "[METRICS] load_documents: time=2.80s, count=46\n"
     ]
    }
   ],
   "source": [
    "docs = loader.load_documents(subdir=folder_name,file_names=files)\n",
    "# print(type(docs[0].page_content))"
   ]
  },
  {
   "cell_type": "markdown",
   "id": "ab29a38c",
   "metadata": {},
   "source": [
    "### Chunking"
   ]
  },
  {
   "cell_type": "code",
   "execution_count": 8,
   "id": "15e57f2c",
   "metadata": {},
   "outputs": [],
   "source": [
    "from src.ingestion.DocumentChunker import DocumentChunker"
   ]
  },
  {
   "cell_type": "code",
   "execution_count": 9,
   "id": "e0a577bf",
   "metadata": {},
   "outputs": [],
   "source": [
    "chunker = DocumentChunker(\n",
    "    hf_embedding_model=\"sentence-transformers/all-mpnet-base-v2\",\n",
    "    chunk_size=300,\n",
    "    chunk_overlap=80\n",
    ")"
   ]
  },
  {
   "cell_type": "code",
   "execution_count": 10,
   "id": "88279a9e",
   "metadata": {},
   "outputs": [
    {
     "data": {
      "application/vnd.jupyter.widget-view+json": {
       "model_id": "b7bf66319a3649edb95896b049bdbc85",
       "version_major": 2,
       "version_minor": 0
      },
      "text/plain": [
       "Chunking documents:   0%|          | 0/46 [00:00<?, ?doc/s]"
      ]
     },
     "metadata": {},
     "output_type": "display_data"
    },
    {
     "name": "stdout",
     "output_type": "stream",
     "text": [
      "[METRICS] chunk_documents: time=0.47s, count=88\n",
      "[METRICS] get_docs_token_count: time=0.18s, count=88\n"
     ]
    }
   ],
   "source": [
    "chunks = chunker.chunk_documents(docs)\n",
    "token_count = chunker.get_docs_token_count(chunks)"
   ]
  },
  {
   "cell_type": "code",
   "execution_count": 11,
   "id": "0a9a4caf",
   "metadata": {},
   "outputs": [
    {
     "name": "stdout",
     "output_type": "stream",
     "text": [
      "88\n",
      "26370\n"
     ]
    }
   ],
   "source": [
    "print(len(chunks))\n",
    "print(token_count)"
   ]
  },
  {
   "cell_type": "markdown",
   "id": "8538524c",
   "metadata": {},
   "source": [
    "### Embedding"
   ]
  },
  {
   "cell_type": "code",
   "execution_count": 12,
   "id": "e342810a",
   "metadata": {},
   "outputs": [],
   "source": [
    "from src.ingestion.HuggingFaceEmbedder import HuggingFaceEmbedder"
   ]
  },
  {
   "cell_type": "code",
   "execution_count": 13,
   "id": "5c0268db",
   "metadata": {},
   "outputs": [],
   "source": [
    "embedder = HuggingFaceEmbedder(\"sentence-transformers/all-mpnet-base-v2\")"
   ]
  },
  {
   "cell_type": "code",
   "execution_count": 16,
   "id": "060fd8e3",
   "metadata": {},
   "outputs": [
    {
     "name": "stdout",
     "output_type": "stream",
     "text": [
      "[METRICS] embed_query: time=0.12s, count=32\n",
      "dimension 768\n"
     ]
    }
   ],
   "source": [
    "v1  = embedder.embed_query(chunks[0].page_content)\n",
    "print(\"dimension\",len(v1))"
   ]
  },
  {
   "cell_type": "markdown",
   "id": "60db6a20",
   "metadata": {},
   "source": [
    "### Vector Store Management"
   ]
  },
  {
   "cell_type": "code",
   "execution_count": 17,
   "id": "67633625",
   "metadata": {},
   "outputs": [],
   "source": [
    "from src.ingestion.VectorStoreManager import VectorStoreManager"
   ]
  },
  {
   "cell_type": "code",
   "execution_count": 18,
   "id": "6ace27c8",
   "metadata": {},
   "outputs": [
    {
     "name": "stderr",
     "output_type": "stream",
     "text": [
      "INFO:src.ingestion.VectorStoreManager:VectorStoreManager initialized for index 'index'\n"
     ]
    }
   ],
   "source": [
    "vsm = VectorStoreManager(embedding_function=embedder,index_name=folder_name)"
   ]
  },
  {
   "cell_type": "code",
   "execution_count": 19,
   "id": "62ce72ee",
   "metadata": {},
   "outputs": [
    {
     "name": "stderr",
     "output_type": "stream",
     "text": [
      "INFO:src.ingestion.VectorStoreManager:Created FAISS index 'index' with dim=768\n"
     ]
    },
    {
     "name": "stdout",
     "output_type": "stream",
     "text": [
      "[METRICS] embed_query: time=0.13s, count=4\n"
     ]
    }
   ],
   "source": [
    "vsm.create_index()"
   ]
  },
  {
   "cell_type": "code",
   "execution_count": 20,
   "id": "dd1b5100",
   "metadata": {},
   "outputs": [
    {
     "data": {
      "application/vnd.jupyter.widget-view+json": {
       "model_id": "701ad7897ad142acbfb7e1e91d2958e9",
       "version_major": 2,
       "version_minor": 0
      },
      "text/plain": [
       "Adding documents:   0%|          | 0/88 [00:00<?, ?it/s]"
      ]
     },
     "metadata": {},
     "output_type": "display_data"
    },
    {
     "name": "stderr",
     "output_type": "stream",
     "text": [
      "INFO:src.ingestion.HuggingFaceEmbedder:Embedding 1 documents with model 'sentence-transformers/all-mpnet-base-v2'\n"
     ]
    },
    {
     "data": {
      "application/vnd.jupyter.widget-view+json": {
       "model_id": "cfae59908578461bb3811db65f3680e1",
       "version_major": 2,
       "version_minor": 0
      },
      "text/plain": [
       "Embedding documents:   0%|          | 0/1 [00:00<?, ?doc/s]"
      ]
     },
     "metadata": {},
     "output_type": "display_data"
    },
    {
     "name": "stderr",
     "output_type": "stream",
     "text": [
      "INFO:src.ingestion.HuggingFaceEmbedder:Successfully embedded 1/1 documents\n",
      "INFO:src.ingestion.HuggingFaceEmbedder:Embedding 1 documents with model 'sentence-transformers/all-mpnet-base-v2'\n"
     ]
    },
    {
     "name": "stdout",
     "output_type": "stream",
     "text": [
      "[METRICS] embed_documents: time=0.25s, count=32\n"
     ]
    },
    {
     "data": {
      "application/vnd.jupyter.widget-view+json": {
       "model_id": "710c3edafef14fdc9fd3af87cd70b63f",
       "version_major": 2,
       "version_minor": 0
      },
      "text/plain": [
       "Embedding documents:   0%|          | 0/1 [00:00<?, ?doc/s]"
      ]
     },
     "metadata": {},
     "output_type": "display_data"
    },
    {
     "name": "stderr",
     "output_type": "stream",
     "text": [
      "INFO:src.ingestion.HuggingFaceEmbedder:Successfully embedded 1/1 documents\n",
      "INFO:src.ingestion.HuggingFaceEmbedder:Embedding 1 documents with model 'sentence-transformers/all-mpnet-base-v2'\n"
     ]
    },
    {
     "name": "stdout",
     "output_type": "stream",
     "text": [
      "[METRICS] embed_documents: time=1.45s, count=386\n"
     ]
    },
    {
     "data": {
      "application/vnd.jupyter.widget-view+json": {
       "model_id": "e2f103e7b7bb43ee99f8b8d51b76f65b",
       "version_major": 2,
       "version_minor": 0
      },
      "text/plain": [
       "Embedding documents:   0%|          | 0/1 [00:00<?, ?doc/s]"
      ]
     },
     "metadata": {},
     "output_type": "display_data"
    },
    {
     "name": "stderr",
     "output_type": "stream",
     "text": [
      "INFO:src.ingestion.HuggingFaceEmbedder:Successfully embedded 1/1 documents\n",
      "INFO:src.ingestion.HuggingFaceEmbedder:Embedding 1 documents with model 'sentence-transformers/all-mpnet-base-v2'\n"
     ]
    },
    {
     "name": "stdout",
     "output_type": "stream",
     "text": [
      "[METRICS] embed_documents: time=0.79s, count=262\n"
     ]
    },
    {
     "data": {
      "application/vnd.jupyter.widget-view+json": {
       "model_id": "b4c5225a14aa4596adc4cbb2bdbe9b11",
       "version_major": 2,
       "version_minor": 0
      },
      "text/plain": [
       "Embedding documents:   0%|          | 0/1 [00:00<?, ?doc/s]"
      ]
     },
     "metadata": {},
     "output_type": "display_data"
    },
    {
     "name": "stderr",
     "output_type": "stream",
     "text": [
      "INFO:src.ingestion.HuggingFaceEmbedder:Successfully embedded 1/1 documents\n",
      "INFO:src.ingestion.HuggingFaceEmbedder:Embedding 1 documents with model 'sentence-transformers/all-mpnet-base-v2'\n"
     ]
    },
    {
     "name": "stdout",
     "output_type": "stream",
     "text": [
      "[METRICS] embed_documents: time=1.45s, count=386\n"
     ]
    },
    {
     "data": {
      "application/vnd.jupyter.widget-view+json": {
       "model_id": "9a5a235a2ae145ccb2b22bdca8d5bcbb",
       "version_major": 2,
       "version_minor": 0
      },
      "text/plain": [
       "Embedding documents:   0%|          | 0/1 [00:00<?, ?doc/s]"
      ]
     },
     "metadata": {},
     "output_type": "display_data"
    },
    {
     "name": "stderr",
     "output_type": "stream",
     "text": [
      "INFO:src.ingestion.HuggingFaceEmbedder:Successfully embedded 1/1 documents\n",
      "INFO:src.ingestion.HuggingFaceEmbedder:Embedding 1 documents with model 'sentence-transformers/all-mpnet-base-v2'\n"
     ]
    },
    {
     "name": "stdout",
     "output_type": "stream",
     "text": [
      "[METRICS] embed_documents: time=0.71s, count=274\n"
     ]
    },
    {
     "data": {
      "application/vnd.jupyter.widget-view+json": {
       "model_id": "a8d01715f5ba43a9b55a99261801879a",
       "version_major": 2,
       "version_minor": 0
      },
      "text/plain": [
       "Embedding documents:   0%|          | 0/1 [00:00<?, ?doc/s]"
      ]
     },
     "metadata": {},
     "output_type": "display_data"
    },
    {
     "name": "stderr",
     "output_type": "stream",
     "text": [
      "INFO:src.ingestion.HuggingFaceEmbedder:Successfully embedded 1/1 documents\n",
      "INFO:src.ingestion.HuggingFaceEmbedder:Embedding 1 documents with model 'sentence-transformers/all-mpnet-base-v2'\n"
     ]
    },
    {
     "name": "stdout",
     "output_type": "stream",
     "text": [
      "[METRICS] embed_documents: time=1.27s, count=386\n"
     ]
    },
    {
     "data": {
      "application/vnd.jupyter.widget-view+json": {
       "model_id": "9fd817d4d5814f5490f2c7ff0dd04337",
       "version_major": 2,
       "version_minor": 0
      },
      "text/plain": [
       "Embedding documents:   0%|          | 0/1 [00:00<?, ?doc/s]"
      ]
     },
     "metadata": {},
     "output_type": "display_data"
    },
    {
     "name": "stderr",
     "output_type": "stream",
     "text": [
      "INFO:src.ingestion.HuggingFaceEmbedder:Successfully embedded 1/1 documents\n",
      "INFO:src.ingestion.HuggingFaceEmbedder:Embedding 1 documents with model 'sentence-transformers/all-mpnet-base-v2'\n"
     ]
    },
    {
     "name": "stdout",
     "output_type": "stream",
     "text": [
      "[METRICS] embed_documents: time=0.68s, count=211\n"
     ]
    },
    {
     "data": {
      "application/vnd.jupyter.widget-view+json": {
       "model_id": "ec06c028729d461691a1b74f62690f97",
       "version_major": 2,
       "version_minor": 0
      },
      "text/plain": [
       "Embedding documents:   0%|          | 0/1 [00:00<?, ?doc/s]"
      ]
     },
     "metadata": {},
     "output_type": "display_data"
    },
    {
     "name": "stderr",
     "output_type": "stream",
     "text": [
      "INFO:src.ingestion.HuggingFaceEmbedder:Successfully embedded 1/1 documents\n",
      "INFO:src.ingestion.HuggingFaceEmbedder:Embedding 1 documents with model 'sentence-transformers/all-mpnet-base-v2'\n"
     ]
    },
    {
     "name": "stdout",
     "output_type": "stream",
     "text": [
      "[METRICS] embed_documents: time=1.25s, count=386\n"
     ]
    },
    {
     "data": {
      "application/vnd.jupyter.widget-view+json": {
       "model_id": "23371f48b49c4c2385dfa48f353165b1",
       "version_major": 2,
       "version_minor": 0
      },
      "text/plain": [
       "Embedding documents:   0%|          | 0/1 [00:00<?, ?doc/s]"
      ]
     },
     "metadata": {},
     "output_type": "display_data"
    },
    {
     "name": "stderr",
     "output_type": "stream",
     "text": [
      "INFO:src.ingestion.HuggingFaceEmbedder:Successfully embedded 1/1 documents\n",
      "INFO:src.ingestion.HuggingFaceEmbedder:Embedding 1 documents with model 'sentence-transformers/all-mpnet-base-v2'\n"
     ]
    },
    {
     "name": "stdout",
     "output_type": "stream",
     "text": [
      "[METRICS] embed_documents: time=0.54s, count=161\n"
     ]
    },
    {
     "data": {
      "application/vnd.jupyter.widget-view+json": {
       "model_id": "98cdeb8de9194556b80106cd9ff261e9",
       "version_major": 2,
       "version_minor": 0
      },
      "text/plain": [
       "Embedding documents:   0%|          | 0/1 [00:00<?, ?doc/s]"
      ]
     },
     "metadata": {},
     "output_type": "display_data"
    },
    {
     "name": "stderr",
     "output_type": "stream",
     "text": [
      "INFO:src.ingestion.HuggingFaceEmbedder:Successfully embedded 1/1 documents\n",
      "INFO:src.ingestion.HuggingFaceEmbedder:Embedding 1 documents with model 'sentence-transformers/all-mpnet-base-v2'\n"
     ]
    },
    {
     "name": "stdout",
     "output_type": "stream",
     "text": [
      "[METRICS] embed_documents: time=1.37s, count=386\n"
     ]
    },
    {
     "data": {
      "application/vnd.jupyter.widget-view+json": {
       "model_id": "3a88beb588704cd8861ccc564b34ad44",
       "version_major": 2,
       "version_minor": 0
      },
      "text/plain": [
       "Embedding documents:   0%|          | 0/1 [00:00<?, ?doc/s]"
      ]
     },
     "metadata": {},
     "output_type": "display_data"
    },
    {
     "name": "stderr",
     "output_type": "stream",
     "text": [
      "INFO:src.ingestion.HuggingFaceEmbedder:Successfully embedded 1/1 documents\n",
      "INFO:src.ingestion.HuggingFaceEmbedder:Embedding 1 documents with model 'sentence-transformers/all-mpnet-base-v2'\n"
     ]
    },
    {
     "name": "stdout",
     "output_type": "stream",
     "text": [
      "[METRICS] embed_documents: time=1.25s, count=386\n"
     ]
    },
    {
     "data": {
      "application/vnd.jupyter.widget-view+json": {
       "model_id": "92d95d300b1445eab53c9c9becbb5d0d",
       "version_major": 2,
       "version_minor": 0
      },
      "text/plain": [
       "Embedding documents:   0%|          | 0/1 [00:00<?, ?doc/s]"
      ]
     },
     "metadata": {},
     "output_type": "display_data"
    },
    {
     "name": "stderr",
     "output_type": "stream",
     "text": [
      "INFO:src.ingestion.HuggingFaceEmbedder:Successfully embedded 1/1 documents\n",
      "INFO:src.ingestion.HuggingFaceEmbedder:Embedding 1 documents with model 'sentence-transformers/all-mpnet-base-v2'\n"
     ]
    },
    {
     "name": "stdout",
     "output_type": "stream",
     "text": [
      "[METRICS] embed_documents: time=0.56s, count=145\n"
     ]
    },
    {
     "data": {
      "application/vnd.jupyter.widget-view+json": {
       "model_id": "7f0e3eb52a644853b5a129462ece636a",
       "version_major": 2,
       "version_minor": 0
      },
      "text/plain": [
       "Embedding documents:   0%|          | 0/1 [00:00<?, ?doc/s]"
      ]
     },
     "metadata": {},
     "output_type": "display_data"
    },
    {
     "name": "stderr",
     "output_type": "stream",
     "text": [
      "INFO:src.ingestion.HuggingFaceEmbedder:Successfully embedded 1/1 documents\n",
      "INFO:src.ingestion.HuggingFaceEmbedder:Embedding 1 documents with model 'sentence-transformers/all-mpnet-base-v2'\n"
     ]
    },
    {
     "name": "stdout",
     "output_type": "stream",
     "text": [
      "[METRICS] embed_documents: time=1.43s, count=386\n"
     ]
    },
    {
     "data": {
      "application/vnd.jupyter.widget-view+json": {
       "model_id": "e8c01885ee034b718adedd0cc3c1e9be",
       "version_major": 2,
       "version_minor": 0
      },
      "text/plain": [
       "Embedding documents:   0%|          | 0/1 [00:00<?, ?doc/s]"
      ]
     },
     "metadata": {},
     "output_type": "display_data"
    },
    {
     "name": "stderr",
     "output_type": "stream",
     "text": [
      "INFO:src.ingestion.HuggingFaceEmbedder:Successfully embedded 1/1 documents\n",
      "INFO:src.ingestion.HuggingFaceEmbedder:Embedding 1 documents with model 'sentence-transformers/all-mpnet-base-v2'\n"
     ]
    },
    {
     "name": "stdout",
     "output_type": "stream",
     "text": [
      "[METRICS] embed_documents: time=0.52s, count=84\n"
     ]
    },
    {
     "data": {
      "application/vnd.jupyter.widget-view+json": {
       "model_id": "436bb98ddb8a4a439c2fafa4d053fea9",
       "version_major": 2,
       "version_minor": 0
      },
      "text/plain": [
       "Embedding documents:   0%|          | 0/1 [00:00<?, ?doc/s]"
      ]
     },
     "metadata": {},
     "output_type": "display_data"
    },
    {
     "name": "stderr",
     "output_type": "stream",
     "text": [
      "INFO:src.ingestion.HuggingFaceEmbedder:Successfully embedded 1/1 documents\n",
      "INFO:src.ingestion.HuggingFaceEmbedder:Embedding 1 documents with model 'sentence-transformers/all-mpnet-base-v2'\n"
     ]
    },
    {
     "name": "stdout",
     "output_type": "stream",
     "text": [
      "[METRICS] embed_documents: time=1.40s, count=386\n"
     ]
    },
    {
     "data": {
      "application/vnd.jupyter.widget-view+json": {
       "model_id": "ab874d842ea84992be2363120103ab8f",
       "version_major": 2,
       "version_minor": 0
      },
      "text/plain": [
       "Embedding documents:   0%|          | 0/1 [00:00<?, ?doc/s]"
      ]
     },
     "metadata": {},
     "output_type": "display_data"
    },
    {
     "name": "stderr",
     "output_type": "stream",
     "text": [
      "INFO:src.ingestion.HuggingFaceEmbedder:Successfully embedded 1/1 documents\n",
      "INFO:src.ingestion.HuggingFaceEmbedder:Embedding 1 documents with model 'sentence-transformers/all-mpnet-base-v2'\n"
     ]
    },
    {
     "name": "stdout",
     "output_type": "stream",
     "text": [
      "[METRICS] embed_documents: time=0.82s, count=275\n"
     ]
    },
    {
     "data": {
      "application/vnd.jupyter.widget-view+json": {
       "model_id": "cfb3b5006ce0455d9cea542496cd0ec0",
       "version_major": 2,
       "version_minor": 0
      },
      "text/plain": [
       "Embedding documents:   0%|          | 0/1 [00:00<?, ?doc/s]"
      ]
     },
     "metadata": {},
     "output_type": "display_data"
    },
    {
     "name": "stderr",
     "output_type": "stream",
     "text": [
      "INFO:src.ingestion.HuggingFaceEmbedder:Successfully embedded 1/1 documents\n",
      "INFO:src.ingestion.HuggingFaceEmbedder:Embedding 1 documents with model 'sentence-transformers/all-mpnet-base-v2'\n"
     ]
    },
    {
     "name": "stdout",
     "output_type": "stream",
     "text": [
      "[METRICS] embed_documents: time=1.39s, count=386\n"
     ]
    },
    {
     "data": {
      "application/vnd.jupyter.widget-view+json": {
       "model_id": "72f172198f274463a682b604d11f05f1",
       "version_major": 2,
       "version_minor": 0
      },
      "text/plain": [
       "Embedding documents:   0%|          | 0/1 [00:00<?, ?doc/s]"
      ]
     },
     "metadata": {},
     "output_type": "display_data"
    },
    {
     "name": "stderr",
     "output_type": "stream",
     "text": [
      "INFO:src.ingestion.HuggingFaceEmbedder:Successfully embedded 1/1 documents\n",
      "INFO:src.ingestion.HuggingFaceEmbedder:Embedding 1 documents with model 'sentence-transformers/all-mpnet-base-v2'\n"
     ]
    },
    {
     "name": "stdout",
     "output_type": "stream",
     "text": [
      "[METRICS] embed_documents: time=1.11s, count=278\n"
     ]
    },
    {
     "data": {
      "application/vnd.jupyter.widget-view+json": {
       "model_id": "7f29929d89cf4db4b9e15840f217e8df",
       "version_major": 2,
       "version_minor": 0
      },
      "text/plain": [
       "Embedding documents:   0%|          | 0/1 [00:00<?, ?doc/s]"
      ]
     },
     "metadata": {},
     "output_type": "display_data"
    },
    {
     "name": "stderr",
     "output_type": "stream",
     "text": [
      "INFO:src.ingestion.HuggingFaceEmbedder:Successfully embedded 1/1 documents\n",
      "INFO:src.ingestion.HuggingFaceEmbedder:Embedding 1 documents with model 'sentence-transformers/all-mpnet-base-v2'\n"
     ]
    },
    {
     "name": "stdout",
     "output_type": "stream",
     "text": [
      "[METRICS] embed_documents: time=1.12s, count=368\n"
     ]
    },
    {
     "data": {
      "application/vnd.jupyter.widget-view+json": {
       "model_id": "8aa77bde1c274fc1a42ab3f8148edcd2",
       "version_major": 2,
       "version_minor": 0
      },
      "text/plain": [
       "Embedding documents:   0%|          | 0/1 [00:00<?, ?doc/s]"
      ]
     },
     "metadata": {},
     "output_type": "display_data"
    },
    {
     "name": "stderr",
     "output_type": "stream",
     "text": [
      "INFO:src.ingestion.HuggingFaceEmbedder:Successfully embedded 1/1 documents\n",
      "INFO:src.ingestion.HuggingFaceEmbedder:Embedding 1 documents with model 'sentence-transformers/all-mpnet-base-v2'\n"
     ]
    },
    {
     "name": "stdout",
     "output_type": "stream",
     "text": [
      "[METRICS] embed_documents: time=1.16s, count=386\n"
     ]
    },
    {
     "data": {
      "application/vnd.jupyter.widget-view+json": {
       "model_id": "1fdac360fb554e12bbbe2e26a6d84f3c",
       "version_major": 2,
       "version_minor": 0
      },
      "text/plain": [
       "Embedding documents:   0%|          | 0/1 [00:00<?, ?doc/s]"
      ]
     },
     "metadata": {},
     "output_type": "display_data"
    },
    {
     "name": "stderr",
     "output_type": "stream",
     "text": [
      "INFO:src.ingestion.HuggingFaceEmbedder:Successfully embedded 1/1 documents\n",
      "INFO:src.ingestion.HuggingFaceEmbedder:Embedding 1 documents with model 'sentence-transformers/all-mpnet-base-v2'\n"
     ]
    },
    {
     "name": "stdout",
     "output_type": "stream",
     "text": [
      "[METRICS] embed_documents: time=0.45s, count=130\n"
     ]
    },
    {
     "data": {
      "application/vnd.jupyter.widget-view+json": {
       "model_id": "b704397d00ec4207b1bd5bab7d96e711",
       "version_major": 2,
       "version_minor": 0
      },
      "text/plain": [
       "Embedding documents:   0%|          | 0/1 [00:00<?, ?doc/s]"
      ]
     },
     "metadata": {},
     "output_type": "display_data"
    },
    {
     "name": "stderr",
     "output_type": "stream",
     "text": [
      "INFO:src.ingestion.HuggingFaceEmbedder:Successfully embedded 1/1 documents\n",
      "INFO:src.ingestion.HuggingFaceEmbedder:Embedding 1 documents with model 'sentence-transformers/all-mpnet-base-v2'\n"
     ]
    },
    {
     "name": "stdout",
     "output_type": "stream",
     "text": [
      "[METRICS] embed_documents: time=1.16s, count=353\n"
     ]
    },
    {
     "data": {
      "application/vnd.jupyter.widget-view+json": {
       "model_id": "c1fccffab0e740639a81a0ad05c1fd90",
       "version_major": 2,
       "version_minor": 0
      },
      "text/plain": [
       "Embedding documents:   0%|          | 0/1 [00:00<?, ?doc/s]"
      ]
     },
     "metadata": {},
     "output_type": "display_data"
    },
    {
     "name": "stderr",
     "output_type": "stream",
     "text": [
      "INFO:src.ingestion.HuggingFaceEmbedder:Successfully embedded 1/1 documents\n",
      "INFO:src.ingestion.HuggingFaceEmbedder:Embedding 1 documents with model 'sentence-transformers/all-mpnet-base-v2'\n"
     ]
    },
    {
     "name": "stdout",
     "output_type": "stream",
     "text": [
      "[METRICS] embed_documents: time=1.19s, count=386\n"
     ]
    },
    {
     "data": {
      "application/vnd.jupyter.widget-view+json": {
       "model_id": "3b7164f01a7c4a53b4907b560b6eebc2",
       "version_major": 2,
       "version_minor": 0
      },
      "text/plain": [
       "Embedding documents:   0%|          | 0/1 [00:00<?, ?doc/s]"
      ]
     },
     "metadata": {},
     "output_type": "display_data"
    },
    {
     "name": "stderr",
     "output_type": "stream",
     "text": [
      "INFO:src.ingestion.HuggingFaceEmbedder:Successfully embedded 1/1 documents\n",
      "INFO:src.ingestion.HuggingFaceEmbedder:Embedding 1 documents with model 'sentence-transformers/all-mpnet-base-v2'\n"
     ]
    },
    {
     "name": "stdout",
     "output_type": "stream",
     "text": [
      "[METRICS] embed_documents: time=0.74s, count=241\n"
     ]
    },
    {
     "data": {
      "application/vnd.jupyter.widget-view+json": {
       "model_id": "7f40a111c0da4fe499e66ec11e991d22",
       "version_major": 2,
       "version_minor": 0
      },
      "text/plain": [
       "Embedding documents:   0%|          | 0/1 [00:00<?, ?doc/s]"
      ]
     },
     "metadata": {},
     "output_type": "display_data"
    },
    {
     "name": "stderr",
     "output_type": "stream",
     "text": [
      "INFO:src.ingestion.HuggingFaceEmbedder:Successfully embedded 1/1 documents\n",
      "INFO:src.ingestion.HuggingFaceEmbedder:Embedding 1 documents with model 'sentence-transformers/all-mpnet-base-v2'\n"
     ]
    },
    {
     "name": "stdout",
     "output_type": "stream",
     "text": [
      "[METRICS] embed_documents: time=1.21s, count=386\n"
     ]
    },
    {
     "data": {
      "application/vnd.jupyter.widget-view+json": {
       "model_id": "501c367a0aef418ea05345c38c490fa4",
       "version_major": 2,
       "version_minor": 0
      },
      "text/plain": [
       "Embedding documents:   0%|          | 0/1 [00:00<?, ?doc/s]"
      ]
     },
     "metadata": {},
     "output_type": "display_data"
    },
    {
     "name": "stderr",
     "output_type": "stream",
     "text": [
      "INFO:src.ingestion.HuggingFaceEmbedder:Successfully embedded 1/1 documents\n",
      "INFO:src.ingestion.HuggingFaceEmbedder:Embedding 1 documents with model 'sentence-transformers/all-mpnet-base-v2'\n"
     ]
    },
    {
     "name": "stdout",
     "output_type": "stream",
     "text": [
      "[METRICS] embed_documents: time=0.56s, count=169\n"
     ]
    },
    {
     "data": {
      "application/vnd.jupyter.widget-view+json": {
       "model_id": "68f311ea302849218ddae640c760d171",
       "version_major": 2,
       "version_minor": 0
      },
      "text/plain": [
       "Embedding documents:   0%|          | 0/1 [00:00<?, ?doc/s]"
      ]
     },
     "metadata": {},
     "output_type": "display_data"
    },
    {
     "name": "stderr",
     "output_type": "stream",
     "text": [
      "INFO:src.ingestion.HuggingFaceEmbedder:Successfully embedded 1/1 documents\n",
      "INFO:src.ingestion.HuggingFaceEmbedder:Embedding 1 documents with model 'sentence-transformers/all-mpnet-base-v2'\n"
     ]
    },
    {
     "name": "stdout",
     "output_type": "stream",
     "text": [
      "[METRICS] embed_documents: time=1.22s, count=386\n"
     ]
    },
    {
     "data": {
      "application/vnd.jupyter.widget-view+json": {
       "model_id": "f422524ac4054350a498ee4746b5b61d",
       "version_major": 2,
       "version_minor": 0
      },
      "text/plain": [
       "Embedding documents:   0%|          | 0/1 [00:00<?, ?doc/s]"
      ]
     },
     "metadata": {},
     "output_type": "display_data"
    },
    {
     "name": "stderr",
     "output_type": "stream",
     "text": [
      "INFO:src.ingestion.HuggingFaceEmbedder:Successfully embedded 1/1 documents\n",
      "INFO:src.ingestion.HuggingFaceEmbedder:Embedding 1 documents with model 'sentence-transformers/all-mpnet-base-v2'\n"
     ]
    },
    {
     "name": "stdout",
     "output_type": "stream",
     "text": [
      "[METRICS] embed_documents: time=1.41s, count=386\n"
     ]
    },
    {
     "data": {
      "application/vnd.jupyter.widget-view+json": {
       "model_id": "2c03271074d1488585b62bdc550c8fa7",
       "version_major": 2,
       "version_minor": 0
      },
      "text/plain": [
       "Embedding documents:   0%|          | 0/1 [00:00<?, ?doc/s]"
      ]
     },
     "metadata": {},
     "output_type": "display_data"
    },
    {
     "name": "stderr",
     "output_type": "stream",
     "text": [
      "INFO:src.ingestion.HuggingFaceEmbedder:Successfully embedded 1/1 documents\n",
      "INFO:src.ingestion.HuggingFaceEmbedder:Embedding 1 documents with model 'sentence-transformers/all-mpnet-base-v2'\n"
     ]
    },
    {
     "name": "stdout",
     "output_type": "stream",
     "text": [
      "[METRICS] embed_documents: time=0.46s, count=156\n"
     ]
    },
    {
     "data": {
      "application/vnd.jupyter.widget-view+json": {
       "model_id": "80e15dec11934a5c80c41e28a2e61ce7",
       "version_major": 2,
       "version_minor": 0
      },
      "text/plain": [
       "Embedding documents:   0%|          | 0/1 [00:00<?, ?doc/s]"
      ]
     },
     "metadata": {},
     "output_type": "display_data"
    },
    {
     "name": "stderr",
     "output_type": "stream",
     "text": [
      "INFO:src.ingestion.HuggingFaceEmbedder:Successfully embedded 1/1 documents\n",
      "INFO:src.ingestion.HuggingFaceEmbedder:Embedding 1 documents with model 'sentence-transformers/all-mpnet-base-v2'\n"
     ]
    },
    {
     "name": "stdout",
     "output_type": "stream",
     "text": [
      "[METRICS] embed_documents: time=1.23s, count=386\n"
     ]
    },
    {
     "data": {
      "application/vnd.jupyter.widget-view+json": {
       "model_id": "2b7d9e6d207348db8786046588641d34",
       "version_major": 2,
       "version_minor": 0
      },
      "text/plain": [
       "Embedding documents:   0%|          | 0/1 [00:00<?, ?doc/s]"
      ]
     },
     "metadata": {},
     "output_type": "display_data"
    },
    {
     "name": "stderr",
     "output_type": "stream",
     "text": [
      "INFO:src.ingestion.HuggingFaceEmbedder:Successfully embedded 1/1 documents\n",
      "INFO:src.ingestion.HuggingFaceEmbedder:Embedding 1 documents with model 'sentence-transformers/all-mpnet-base-v2'\n"
     ]
    },
    {
     "name": "stdout",
     "output_type": "stream",
     "text": [
      "[METRICS] embed_documents: time=0.58s, count=200\n"
     ]
    },
    {
     "data": {
      "application/vnd.jupyter.widget-view+json": {
       "model_id": "899d3ba19abb490eb3f0a98d014d0f80",
       "version_major": 2,
       "version_minor": 0
      },
      "text/plain": [
       "Embedding documents:   0%|          | 0/1 [00:00<?, ?doc/s]"
      ]
     },
     "metadata": {},
     "output_type": "display_data"
    },
    {
     "name": "stderr",
     "output_type": "stream",
     "text": [
      "INFO:src.ingestion.HuggingFaceEmbedder:Successfully embedded 1/1 documents\n",
      "INFO:src.ingestion.HuggingFaceEmbedder:Embedding 1 documents with model 'sentence-transformers/all-mpnet-base-v2'\n"
     ]
    },
    {
     "name": "stdout",
     "output_type": "stream",
     "text": [
      "[METRICS] embed_documents: time=1.24s, count=386\n"
     ]
    },
    {
     "data": {
      "application/vnd.jupyter.widget-view+json": {
       "model_id": "0c2f96a122254b1abc597d90e2eb09d2",
       "version_major": 2,
       "version_minor": 0
      },
      "text/plain": [
       "Embedding documents:   0%|          | 0/1 [00:00<?, ?doc/s]"
      ]
     },
     "metadata": {},
     "output_type": "display_data"
    },
    {
     "name": "stderr",
     "output_type": "stream",
     "text": [
      "INFO:src.ingestion.HuggingFaceEmbedder:Successfully embedded 1/1 documents\n",
      "INFO:src.ingestion.HuggingFaceEmbedder:Embedding 1 documents with model 'sentence-transformers/all-mpnet-base-v2'\n"
     ]
    },
    {
     "name": "stdout",
     "output_type": "stream",
     "text": [
      "[METRICS] embed_documents: time=0.51s, count=115\n"
     ]
    },
    {
     "data": {
      "application/vnd.jupyter.widget-view+json": {
       "model_id": "763de1eb1d9a43d1ae01e3099620ec35",
       "version_major": 2,
       "version_minor": 0
      },
      "text/plain": [
       "Embedding documents:   0%|          | 0/1 [00:00<?, ?doc/s]"
      ]
     },
     "metadata": {},
     "output_type": "display_data"
    },
    {
     "name": "stderr",
     "output_type": "stream",
     "text": [
      "INFO:src.ingestion.HuggingFaceEmbedder:Successfully embedded 1/1 documents\n",
      "INFO:src.ingestion.HuggingFaceEmbedder:Embedding 1 documents with model 'sentence-transformers/all-mpnet-base-v2'\n"
     ]
    },
    {
     "name": "stdout",
     "output_type": "stream",
     "text": [
      "[METRICS] embed_documents: time=1.38s, count=386\n"
     ]
    },
    {
     "data": {
      "application/vnd.jupyter.widget-view+json": {
       "model_id": "45ebb096bf2843a8b9931be2ad46fea3",
       "version_major": 2,
       "version_minor": 0
      },
      "text/plain": [
       "Embedding documents:   0%|          | 0/1 [00:00<?, ?doc/s]"
      ]
     },
     "metadata": {},
     "output_type": "display_data"
    },
    {
     "name": "stderr",
     "output_type": "stream",
     "text": [
      "INFO:src.ingestion.HuggingFaceEmbedder:Successfully embedded 1/1 documents\n",
      "INFO:src.ingestion.HuggingFaceEmbedder:Embedding 1 documents with model 'sentence-transformers/all-mpnet-base-v2'\n"
     ]
    },
    {
     "name": "stdout",
     "output_type": "stream",
     "text": [
      "[METRICS] embed_documents: time=0.58s, count=172\n"
     ]
    },
    {
     "data": {
      "application/vnd.jupyter.widget-view+json": {
       "model_id": "92e8e4852f7343fd86e9276d7bfcd3e1",
       "version_major": 2,
       "version_minor": 0
      },
      "text/plain": [
       "Embedding documents:   0%|          | 0/1 [00:00<?, ?doc/s]"
      ]
     },
     "metadata": {},
     "output_type": "display_data"
    },
    {
     "name": "stderr",
     "output_type": "stream",
     "text": [
      "INFO:src.ingestion.HuggingFaceEmbedder:Successfully embedded 1/1 documents\n",
      "INFO:src.ingestion.HuggingFaceEmbedder:Embedding 1 documents with model 'sentence-transformers/all-mpnet-base-v2'\n"
     ]
    },
    {
     "name": "stdout",
     "output_type": "stream",
     "text": [
      "[METRICS] embed_documents: time=1.34s, count=386\n"
     ]
    },
    {
     "data": {
      "application/vnd.jupyter.widget-view+json": {
       "model_id": "bf3c54af0d28457f96339d336067489c",
       "version_major": 2,
       "version_minor": 0
      },
      "text/plain": [
       "Embedding documents:   0%|          | 0/1 [00:00<?, ?doc/s]"
      ]
     },
     "metadata": {},
     "output_type": "display_data"
    },
    {
     "name": "stderr",
     "output_type": "stream",
     "text": [
      "INFO:src.ingestion.HuggingFaceEmbedder:Successfully embedded 1/1 documents\n",
      "INFO:src.ingestion.HuggingFaceEmbedder:Embedding 1 documents with model 'sentence-transformers/all-mpnet-base-v2'\n"
     ]
    },
    {
     "name": "stdout",
     "output_type": "stream",
     "text": [
      "[METRICS] embed_documents: time=0.42s, count=131\n"
     ]
    },
    {
     "data": {
      "application/vnd.jupyter.widget-view+json": {
       "model_id": "7e0f23f67ed14eadbc5571310a166061",
       "version_major": 2,
       "version_minor": 0
      },
      "text/plain": [
       "Embedding documents:   0%|          | 0/1 [00:00<?, ?doc/s]"
      ]
     },
     "metadata": {},
     "output_type": "display_data"
    },
    {
     "name": "stderr",
     "output_type": "stream",
     "text": [
      "INFO:src.ingestion.HuggingFaceEmbedder:Successfully embedded 1/1 documents\n",
      "INFO:src.ingestion.HuggingFaceEmbedder:Embedding 1 documents with model 'sentence-transformers/all-mpnet-base-v2'\n"
     ]
    },
    {
     "name": "stdout",
     "output_type": "stream",
     "text": [
      "[METRICS] embed_documents: time=1.26s, count=386\n"
     ]
    },
    {
     "data": {
      "application/vnd.jupyter.widget-view+json": {
       "model_id": "3ea4326c2ddd489bac563cfac7bf9241",
       "version_major": 2,
       "version_minor": 0
      },
      "text/plain": [
       "Embedding documents:   0%|          | 0/1 [00:00<?, ?doc/s]"
      ]
     },
     "metadata": {},
     "output_type": "display_data"
    },
    {
     "name": "stderr",
     "output_type": "stream",
     "text": [
      "INFO:src.ingestion.HuggingFaceEmbedder:Successfully embedded 1/1 documents\n",
      "INFO:src.ingestion.HuggingFaceEmbedder:Embedding 1 documents with model 'sentence-transformers/all-mpnet-base-v2'\n"
     ]
    },
    {
     "name": "stdout",
     "output_type": "stream",
     "text": [
      "[METRICS] embed_documents: time=0.78s, count=295\n"
     ]
    },
    {
     "data": {
      "application/vnd.jupyter.widget-view+json": {
       "model_id": "3ddbb66279844304b8853addcd1fa3af",
       "version_major": 2,
       "version_minor": 0
      },
      "text/plain": [
       "Embedding documents:   0%|          | 0/1 [00:00<?, ?doc/s]"
      ]
     },
     "metadata": {},
     "output_type": "display_data"
    },
    {
     "name": "stderr",
     "output_type": "stream",
     "text": [
      "INFO:src.ingestion.HuggingFaceEmbedder:Successfully embedded 1/1 documents\n",
      "INFO:src.ingestion.HuggingFaceEmbedder:Embedding 1 documents with model 'sentence-transformers/all-mpnet-base-v2'\n"
     ]
    },
    {
     "name": "stdout",
     "output_type": "stream",
     "text": [
      "[METRICS] embed_documents: time=1.31s, count=386\n"
     ]
    },
    {
     "data": {
      "application/vnd.jupyter.widget-view+json": {
       "model_id": "a95ef373a35e47788543d18d42d5d1e1",
       "version_major": 2,
       "version_minor": 0
      },
      "text/plain": [
       "Embedding documents:   0%|          | 0/1 [00:00<?, ?doc/s]"
      ]
     },
     "metadata": {},
     "output_type": "display_data"
    },
    {
     "name": "stderr",
     "output_type": "stream",
     "text": [
      "INFO:src.ingestion.HuggingFaceEmbedder:Successfully embedded 1/1 documents\n",
      "INFO:src.ingestion.HuggingFaceEmbedder:Embedding 1 documents with model 'sentence-transformers/all-mpnet-base-v2'\n"
     ]
    },
    {
     "name": "stdout",
     "output_type": "stream",
     "text": [
      "[METRICS] embed_documents: time=0.91s, count=335\n"
     ]
    },
    {
     "data": {
      "application/vnd.jupyter.widget-view+json": {
       "model_id": "02d15c24df4a4d6e90833c6e974efce9",
       "version_major": 2,
       "version_minor": 0
      },
      "text/plain": [
       "Embedding documents:   0%|          | 0/1 [00:00<?, ?doc/s]"
      ]
     },
     "metadata": {},
     "output_type": "display_data"
    },
    {
     "name": "stderr",
     "output_type": "stream",
     "text": [
      "INFO:src.ingestion.HuggingFaceEmbedder:Successfully embedded 1/1 documents\n",
      "INFO:src.ingestion.HuggingFaceEmbedder:Embedding 1 documents with model 'sentence-transformers/all-mpnet-base-v2'\n"
     ]
    },
    {
     "name": "stdout",
     "output_type": "stream",
     "text": [
      "[METRICS] embed_documents: time=1.29s, count=386\n"
     ]
    },
    {
     "data": {
      "application/vnd.jupyter.widget-view+json": {
       "model_id": "cb33c925461f435cabfbc71653fa20bc",
       "version_major": 2,
       "version_minor": 0
      },
      "text/plain": [
       "Embedding documents:   0%|          | 0/1 [00:00<?, ?doc/s]"
      ]
     },
     "metadata": {},
     "output_type": "display_data"
    },
    {
     "name": "stderr",
     "output_type": "stream",
     "text": [
      "INFO:src.ingestion.HuggingFaceEmbedder:Successfully embedded 1/1 documents\n",
      "INFO:src.ingestion.HuggingFaceEmbedder:Embedding 1 documents with model 'sentence-transformers/all-mpnet-base-v2'\n"
     ]
    },
    {
     "name": "stdout",
     "output_type": "stream",
     "text": [
      "[METRICS] embed_documents: time=0.67s, count=158\n"
     ]
    },
    {
     "data": {
      "application/vnd.jupyter.widget-view+json": {
       "model_id": "5bf1cde8c07c4a73839e9578910552ff",
       "version_major": 2,
       "version_minor": 0
      },
      "text/plain": [
       "Embedding documents:   0%|          | 0/1 [00:00<?, ?doc/s]"
      ]
     },
     "metadata": {},
     "output_type": "display_data"
    },
    {
     "name": "stderr",
     "output_type": "stream",
     "text": [
      "INFO:src.ingestion.HuggingFaceEmbedder:Successfully embedded 1/1 documents\n",
      "INFO:src.ingestion.HuggingFaceEmbedder:Embedding 1 documents with model 'sentence-transformers/all-mpnet-base-v2'\n"
     ]
    },
    {
     "name": "stdout",
     "output_type": "stream",
     "text": [
      "[METRICS] embed_documents: time=1.01s, count=346\n"
     ]
    },
    {
     "data": {
      "application/vnd.jupyter.widget-view+json": {
       "model_id": "f41ae365c0804472beb88605540190ed",
       "version_major": 2,
       "version_minor": 0
      },
      "text/plain": [
       "Embedding documents:   0%|          | 0/1 [00:00<?, ?doc/s]"
      ]
     },
     "metadata": {},
     "output_type": "display_data"
    },
    {
     "name": "stderr",
     "output_type": "stream",
     "text": [
      "INFO:src.ingestion.HuggingFaceEmbedder:Successfully embedded 1/1 documents\n",
      "INFO:src.ingestion.HuggingFaceEmbedder:Embedding 1 documents with model 'sentence-transformers/all-mpnet-base-v2'\n"
     ]
    },
    {
     "name": "stdout",
     "output_type": "stream",
     "text": [
      "[METRICS] embed_documents: time=1.08s, count=386\n"
     ]
    },
    {
     "data": {
      "application/vnd.jupyter.widget-view+json": {
       "model_id": "4fa93b2385c647f2ac09c3b3786427c2",
       "version_major": 2,
       "version_minor": 0
      },
      "text/plain": [
       "Embedding documents:   0%|          | 0/1 [00:00<?, ?doc/s]"
      ]
     },
     "metadata": {},
     "output_type": "display_data"
    },
    {
     "name": "stderr",
     "output_type": "stream",
     "text": [
      "INFO:src.ingestion.HuggingFaceEmbedder:Successfully embedded 1/1 documents\n",
      "INFO:src.ingestion.HuggingFaceEmbedder:Embedding 1 documents with model 'sentence-transformers/all-mpnet-base-v2'\n"
     ]
    },
    {
     "name": "stdout",
     "output_type": "stream",
     "text": [
      "[METRICS] embed_documents: time=0.79s, count=156\n"
     ]
    },
    {
     "data": {
      "application/vnd.jupyter.widget-view+json": {
       "model_id": "71cd5566cfb1470998a76d32a2733bc8",
       "version_major": 2,
       "version_minor": 0
      },
      "text/plain": [
       "Embedding documents:   0%|          | 0/1 [00:00<?, ?doc/s]"
      ]
     },
     "metadata": {},
     "output_type": "display_data"
    },
    {
     "name": "stderr",
     "output_type": "stream",
     "text": [
      "INFO:src.ingestion.HuggingFaceEmbedder:Successfully embedded 1/1 documents\n",
      "INFO:src.ingestion.HuggingFaceEmbedder:Embedding 1 documents with model 'sentence-transformers/all-mpnet-base-v2'\n"
     ]
    },
    {
     "name": "stdout",
     "output_type": "stream",
     "text": [
      "[METRICS] embed_documents: time=1.26s, count=386\n"
     ]
    },
    {
     "data": {
      "application/vnd.jupyter.widget-view+json": {
       "model_id": "2caac4aa9f7c49ae8b842e47512b6b17",
       "version_major": 2,
       "version_minor": 0
      },
      "text/plain": [
       "Embedding documents:   0%|          | 0/1 [00:00<?, ?doc/s]"
      ]
     },
     "metadata": {},
     "output_type": "display_data"
    },
    {
     "name": "stderr",
     "output_type": "stream",
     "text": [
      "INFO:src.ingestion.HuggingFaceEmbedder:Successfully embedded 1/1 documents\n",
      "INFO:src.ingestion.HuggingFaceEmbedder:Embedding 1 documents with model 'sentence-transformers/all-mpnet-base-v2'\n"
     ]
    },
    {
     "name": "stdout",
     "output_type": "stream",
     "text": [
      "[METRICS] embed_documents: time=0.41s, count=132\n"
     ]
    },
    {
     "data": {
      "application/vnd.jupyter.widget-view+json": {
       "model_id": "2b3d26cf2e104fdd98e68ad09c3b5aa5",
       "version_major": 2,
       "version_minor": 0
      },
      "text/plain": [
       "Embedding documents:   0%|          | 0/1 [00:00<?, ?doc/s]"
      ]
     },
     "metadata": {},
     "output_type": "display_data"
    },
    {
     "name": "stderr",
     "output_type": "stream",
     "text": [
      "INFO:src.ingestion.HuggingFaceEmbedder:Successfully embedded 1/1 documents\n",
      "INFO:src.ingestion.HuggingFaceEmbedder:Embedding 1 documents with model 'sentence-transformers/all-mpnet-base-v2'\n"
     ]
    },
    {
     "name": "stdout",
     "output_type": "stream",
     "text": [
      "[METRICS] embed_documents: time=1.23s, count=386\n"
     ]
    },
    {
     "data": {
      "application/vnd.jupyter.widget-view+json": {
       "model_id": "83203a4d0e174707b44e02f9ee7cd3c1",
       "version_major": 2,
       "version_minor": 0
      },
      "text/plain": [
       "Embedding documents:   0%|          | 0/1 [00:00<?, ?doc/s]"
      ]
     },
     "metadata": {},
     "output_type": "display_data"
    },
    {
     "name": "stderr",
     "output_type": "stream",
     "text": [
      "INFO:src.ingestion.HuggingFaceEmbedder:Successfully embedded 1/1 documents\n",
      "INFO:src.ingestion.HuggingFaceEmbedder:Embedding 1 documents with model 'sentence-transformers/all-mpnet-base-v2'\n"
     ]
    },
    {
     "name": "stdout",
     "output_type": "stream",
     "text": [
      "[METRICS] embed_documents: time=0.47s, count=195\n"
     ]
    },
    {
     "data": {
      "application/vnd.jupyter.widget-view+json": {
       "model_id": "c21b2c7e010a4415b56bef00abd71a2d",
       "version_major": 2,
       "version_minor": 0
      },
      "text/plain": [
       "Embedding documents:   0%|          | 0/1 [00:00<?, ?doc/s]"
      ]
     },
     "metadata": {},
     "output_type": "display_data"
    },
    {
     "name": "stderr",
     "output_type": "stream",
     "text": [
      "INFO:src.ingestion.HuggingFaceEmbedder:Successfully embedded 1/1 documents\n",
      "INFO:src.ingestion.HuggingFaceEmbedder:Embedding 1 documents with model 'sentence-transformers/all-mpnet-base-v2'\n"
     ]
    },
    {
     "name": "stdout",
     "output_type": "stream",
     "text": [
      "[METRICS] embed_documents: time=0.50s, count=253\n"
     ]
    },
    {
     "data": {
      "application/vnd.jupyter.widget-view+json": {
       "model_id": "45a31f4489544f93b9423063df5c9f62",
       "version_major": 2,
       "version_minor": 0
      },
      "text/plain": [
       "Embedding documents:   0%|          | 0/1 [00:00<?, ?doc/s]"
      ]
     },
     "metadata": {},
     "output_type": "display_data"
    },
    {
     "name": "stderr",
     "output_type": "stream",
     "text": [
      "INFO:src.ingestion.HuggingFaceEmbedder:Successfully embedded 1/1 documents\n",
      "INFO:src.ingestion.HuggingFaceEmbedder:Embedding 1 documents with model 'sentence-transformers/all-mpnet-base-v2'\n"
     ]
    },
    {
     "name": "stdout",
     "output_type": "stream",
     "text": [
      "[METRICS] embed_documents: time=0.90s, count=379\n"
     ]
    },
    {
     "data": {
      "application/vnd.jupyter.widget-view+json": {
       "model_id": "1c8ac6e6d9204b35bba24641a9a5b228",
       "version_major": 2,
       "version_minor": 0
      },
      "text/plain": [
       "Embedding documents:   0%|          | 0/1 [00:00<?, ?doc/s]"
      ]
     },
     "metadata": {},
     "output_type": "display_data"
    },
    {
     "name": "stderr",
     "output_type": "stream",
     "text": [
      "INFO:src.ingestion.HuggingFaceEmbedder:Successfully embedded 1/1 documents\n",
      "INFO:src.ingestion.HuggingFaceEmbedder:Embedding 1 documents with model 'sentence-transformers/all-mpnet-base-v2'\n"
     ]
    },
    {
     "name": "stdout",
     "output_type": "stream",
     "text": [
      "[METRICS] embed_documents: time=0.88s, count=386\n"
     ]
    },
    {
     "data": {
      "application/vnd.jupyter.widget-view+json": {
       "model_id": "d804333ca54e497b8ce2e16a24f7d323",
       "version_major": 2,
       "version_minor": 0
      },
      "text/plain": [
       "Embedding documents:   0%|          | 0/1 [00:00<?, ?doc/s]"
      ]
     },
     "metadata": {},
     "output_type": "display_data"
    },
    {
     "name": "stderr",
     "output_type": "stream",
     "text": [
      "INFO:src.ingestion.HuggingFaceEmbedder:Successfully embedded 1/1 documents\n",
      "INFO:src.ingestion.HuggingFaceEmbedder:Embedding 1 documents with model 'sentence-transformers/all-mpnet-base-v2'\n"
     ]
    },
    {
     "name": "stdout",
     "output_type": "stream",
     "text": [
      "[METRICS] embed_documents: time=0.53s, count=260\n"
     ]
    },
    {
     "data": {
      "application/vnd.jupyter.widget-view+json": {
       "model_id": "1eed33ea5e714d4990409e77ff59e21b",
       "version_major": 2,
       "version_minor": 0
      },
      "text/plain": [
       "Embedding documents:   0%|          | 0/1 [00:00<?, ?doc/s]"
      ]
     },
     "metadata": {},
     "output_type": "display_data"
    },
    {
     "name": "stderr",
     "output_type": "stream",
     "text": [
      "INFO:src.ingestion.HuggingFaceEmbedder:Successfully embedded 1/1 documents\n",
      "INFO:src.ingestion.HuggingFaceEmbedder:Embedding 1 documents with model 'sentence-transformers/all-mpnet-base-v2'\n"
     ]
    },
    {
     "name": "stdout",
     "output_type": "stream",
     "text": [
      "[METRICS] embed_documents: time=1.09s, count=386\n"
     ]
    },
    {
     "data": {
      "application/vnd.jupyter.widget-view+json": {
       "model_id": "f4f7e26052574e1bbde394141e906157",
       "version_major": 2,
       "version_minor": 0
      },
      "text/plain": [
       "Embedding documents:   0%|          | 0/1 [00:00<?, ?doc/s]"
      ]
     },
     "metadata": {},
     "output_type": "display_data"
    },
    {
     "name": "stderr",
     "output_type": "stream",
     "text": [
      "INFO:src.ingestion.HuggingFaceEmbedder:Successfully embedded 1/1 documents\n",
      "INFO:src.ingestion.HuggingFaceEmbedder:Embedding 1 documents with model 'sentence-transformers/all-mpnet-base-v2'\n"
     ]
    },
    {
     "name": "stdout",
     "output_type": "stream",
     "text": [
      "[METRICS] embed_documents: time=0.34s, count=160\n"
     ]
    },
    {
     "data": {
      "application/vnd.jupyter.widget-view+json": {
       "model_id": "588e2edddf3541d4a035727b8020036e",
       "version_major": 2,
       "version_minor": 0
      },
      "text/plain": [
       "Embedding documents:   0%|          | 0/1 [00:00<?, ?doc/s]"
      ]
     },
     "metadata": {},
     "output_type": "display_data"
    },
    {
     "name": "stderr",
     "output_type": "stream",
     "text": [
      "INFO:src.ingestion.HuggingFaceEmbedder:Successfully embedded 1/1 documents\n",
      "INFO:src.ingestion.HuggingFaceEmbedder:Embedding 1 documents with model 'sentence-transformers/all-mpnet-base-v2'\n"
     ]
    },
    {
     "name": "stdout",
     "output_type": "stream",
     "text": [
      "[METRICS] embed_documents: time=0.89s, count=386\n"
     ]
    },
    {
     "data": {
      "application/vnd.jupyter.widget-view+json": {
       "model_id": "4e609643a00846f3b67f6a793f5391d6",
       "version_major": 2,
       "version_minor": 0
      },
      "text/plain": [
       "Embedding documents:   0%|          | 0/1 [00:00<?, ?doc/s]"
      ]
     },
     "metadata": {},
     "output_type": "display_data"
    },
    {
     "name": "stderr",
     "output_type": "stream",
     "text": [
      "INFO:src.ingestion.HuggingFaceEmbedder:Successfully embedded 1/1 documents\n",
      "INFO:src.ingestion.HuggingFaceEmbedder:Embedding 1 documents with model 'sentence-transformers/all-mpnet-base-v2'\n"
     ]
    },
    {
     "name": "stdout",
     "output_type": "stream",
     "text": [
      "[METRICS] embed_documents: time=0.98s, count=386\n"
     ]
    },
    {
     "data": {
      "application/vnd.jupyter.widget-view+json": {
       "model_id": "41011f1c8d684d85aeb9a8d7062ab78b",
       "version_major": 2,
       "version_minor": 0
      },
      "text/plain": [
       "Embedding documents:   0%|          | 0/1 [00:00<?, ?doc/s]"
      ]
     },
     "metadata": {},
     "output_type": "display_data"
    },
    {
     "name": "stderr",
     "output_type": "stream",
     "text": [
      "INFO:src.ingestion.HuggingFaceEmbedder:Successfully embedded 1/1 documents\n",
      "INFO:src.ingestion.HuggingFaceEmbedder:Embedding 1 documents with model 'sentence-transformers/all-mpnet-base-v2'\n"
     ]
    },
    {
     "name": "stdout",
     "output_type": "stream",
     "text": [
      "[METRICS] embed_documents: time=0.47s, count=182\n"
     ]
    },
    {
     "data": {
      "application/vnd.jupyter.widget-view+json": {
       "model_id": "5887cef7d04d42ccbe27319b72a2bba7",
       "version_major": 2,
       "version_minor": 0
      },
      "text/plain": [
       "Embedding documents:   0%|          | 0/1 [00:00<?, ?doc/s]"
      ]
     },
     "metadata": {},
     "output_type": "display_data"
    },
    {
     "name": "stderr",
     "output_type": "stream",
     "text": [
      "INFO:src.ingestion.HuggingFaceEmbedder:Successfully embedded 1/1 documents\n",
      "INFO:src.ingestion.HuggingFaceEmbedder:Embedding 1 documents with model 'sentence-transformers/all-mpnet-base-v2'\n"
     ]
    },
    {
     "name": "stdout",
     "output_type": "stream",
     "text": [
      "[METRICS] embed_documents: time=1.17s, count=386\n"
     ]
    },
    {
     "data": {
      "application/vnd.jupyter.widget-view+json": {
       "model_id": "8a05dc9d113d481b99485d446330e723",
       "version_major": 2,
       "version_minor": 0
      },
      "text/plain": [
       "Embedding documents:   0%|          | 0/1 [00:00<?, ?doc/s]"
      ]
     },
     "metadata": {},
     "output_type": "display_data"
    },
    {
     "name": "stderr",
     "output_type": "stream",
     "text": [
      "INFO:src.ingestion.HuggingFaceEmbedder:Successfully embedded 1/1 documents\n",
      "INFO:src.ingestion.HuggingFaceEmbedder:Embedding 1 documents with model 'sentence-transformers/all-mpnet-base-v2'\n"
     ]
    },
    {
     "name": "stdout",
     "output_type": "stream",
     "text": [
      "[METRICS] embed_documents: time=0.58s, count=232\n"
     ]
    },
    {
     "data": {
      "application/vnd.jupyter.widget-view+json": {
       "model_id": "2df682d6b63d46f18436a078f4130425",
       "version_major": 2,
       "version_minor": 0
      },
      "text/plain": [
       "Embedding documents:   0%|          | 0/1 [00:00<?, ?doc/s]"
      ]
     },
     "metadata": {},
     "output_type": "display_data"
    },
    {
     "name": "stderr",
     "output_type": "stream",
     "text": [
      "INFO:src.ingestion.HuggingFaceEmbedder:Successfully embedded 1/1 documents\n",
      "INFO:src.ingestion.HuggingFaceEmbedder:Embedding 1 documents with model 'sentence-transformers/all-mpnet-base-v2'\n"
     ]
    },
    {
     "name": "stdout",
     "output_type": "stream",
     "text": [
      "[METRICS] embed_documents: time=1.01s, count=386\n"
     ]
    },
    {
     "data": {
      "application/vnd.jupyter.widget-view+json": {
       "model_id": "f77baf452dba4f729716e8e186e2419f",
       "version_major": 2,
       "version_minor": 0
      },
      "text/plain": [
       "Embedding documents:   0%|          | 0/1 [00:00<?, ?doc/s]"
      ]
     },
     "metadata": {},
     "output_type": "display_data"
    },
    {
     "name": "stderr",
     "output_type": "stream",
     "text": [
      "INFO:src.ingestion.HuggingFaceEmbedder:Successfully embedded 1/1 documents\n",
      "INFO:src.ingestion.HuggingFaceEmbedder:Embedding 1 documents with model 'sentence-transformers/all-mpnet-base-v2'\n"
     ]
    },
    {
     "name": "stdout",
     "output_type": "stream",
     "text": [
      "[METRICS] embed_documents: time=0.49s, count=168\n"
     ]
    },
    {
     "data": {
      "application/vnd.jupyter.widget-view+json": {
       "model_id": "b0b039e78f6446a8a0d81fb59da4ae8c",
       "version_major": 2,
       "version_minor": 0
      },
      "text/plain": [
       "Embedding documents:   0%|          | 0/1 [00:00<?, ?doc/s]"
      ]
     },
     "metadata": {},
     "output_type": "display_data"
    },
    {
     "name": "stderr",
     "output_type": "stream",
     "text": [
      "INFO:src.ingestion.HuggingFaceEmbedder:Successfully embedded 1/1 documents\n",
      "INFO:src.ingestion.HuggingFaceEmbedder:Embedding 1 documents with model 'sentence-transformers/all-mpnet-base-v2'\n"
     ]
    },
    {
     "name": "stdout",
     "output_type": "stream",
     "text": [
      "[METRICS] embed_documents: time=0.73s, count=323\n"
     ]
    },
    {
     "data": {
      "application/vnd.jupyter.widget-view+json": {
       "model_id": "846bd68302f14be3a93d0728313788f4",
       "version_major": 2,
       "version_minor": 0
      },
      "text/plain": [
       "Embedding documents:   0%|          | 0/1 [00:00<?, ?doc/s]"
      ]
     },
     "metadata": {},
     "output_type": "display_data"
    },
    {
     "name": "stderr",
     "output_type": "stream",
     "text": [
      "INFO:src.ingestion.HuggingFaceEmbedder:Successfully embedded 1/1 documents\n",
      "INFO:src.ingestion.HuggingFaceEmbedder:Embedding 1 documents with model 'sentence-transformers/all-mpnet-base-v2'\n"
     ]
    },
    {
     "name": "stdout",
     "output_type": "stream",
     "text": [
      "[METRICS] embed_documents: time=1.00s, count=386\n"
     ]
    },
    {
     "data": {
      "application/vnd.jupyter.widget-view+json": {
       "model_id": "2e54196811dc4d4ea5c39487413ab080",
       "version_major": 2,
       "version_minor": 0
      },
      "text/plain": [
       "Embedding documents:   0%|          | 0/1 [00:00<?, ?doc/s]"
      ]
     },
     "metadata": {},
     "output_type": "display_data"
    },
    {
     "name": "stderr",
     "output_type": "stream",
     "text": [
      "INFO:src.ingestion.HuggingFaceEmbedder:Successfully embedded 1/1 documents\n",
      "INFO:src.ingestion.HuggingFaceEmbedder:Embedding 1 documents with model 'sentence-transformers/all-mpnet-base-v2'\n"
     ]
    },
    {
     "name": "stdout",
     "output_type": "stream",
     "text": [
      "[METRICS] embed_documents: time=0.72s, count=272\n"
     ]
    },
    {
     "data": {
      "application/vnd.jupyter.widget-view+json": {
       "model_id": "1e94c49b9e6d4451b921a74ba02d1803",
       "version_major": 2,
       "version_minor": 0
      },
      "text/plain": [
       "Embedding documents:   0%|          | 0/1 [00:00<?, ?doc/s]"
      ]
     },
     "metadata": {},
     "output_type": "display_data"
    },
    {
     "name": "stderr",
     "output_type": "stream",
     "text": [
      "INFO:src.ingestion.HuggingFaceEmbedder:Successfully embedded 1/1 documents\n",
      "INFO:src.ingestion.HuggingFaceEmbedder:Embedding 1 documents with model 'sentence-transformers/all-mpnet-base-v2'\n"
     ]
    },
    {
     "name": "stdout",
     "output_type": "stream",
     "text": [
      "[METRICS] embed_documents: time=0.93s, count=386\n"
     ]
    },
    {
     "data": {
      "application/vnd.jupyter.widget-view+json": {
       "model_id": "d9e865afb00748c7a37e0186d15d506c",
       "version_major": 2,
       "version_minor": 0
      },
      "text/plain": [
       "Embedding documents:   0%|          | 0/1 [00:00<?, ?doc/s]"
      ]
     },
     "metadata": {},
     "output_type": "display_data"
    },
    {
     "name": "stderr",
     "output_type": "stream",
     "text": [
      "INFO:src.ingestion.HuggingFaceEmbedder:Successfully embedded 1/1 documents\n",
      "INFO:src.ingestion.HuggingFaceEmbedder:Embedding 1 documents with model 'sentence-transformers/all-mpnet-base-v2'\n"
     ]
    },
    {
     "name": "stdout",
     "output_type": "stream",
     "text": [
      "[METRICS] embed_documents: time=0.41s, count=164\n"
     ]
    },
    {
     "data": {
      "application/vnd.jupyter.widget-view+json": {
       "model_id": "c754026c1c8748de977ce0db7125017d",
       "version_major": 2,
       "version_minor": 0
      },
      "text/plain": [
       "Embedding documents:   0%|          | 0/1 [00:00<?, ?doc/s]"
      ]
     },
     "metadata": {},
     "output_type": "display_data"
    },
    {
     "name": "stderr",
     "output_type": "stream",
     "text": [
      "INFO:src.ingestion.HuggingFaceEmbedder:Successfully embedded 1/1 documents\n",
      "INFO:src.ingestion.HuggingFaceEmbedder:Embedding 1 documents with model 'sentence-transformers/all-mpnet-base-v2'\n"
     ]
    },
    {
     "name": "stdout",
     "output_type": "stream",
     "text": [
      "[METRICS] embed_documents: time=0.84s, count=386\n"
     ]
    },
    {
     "data": {
      "application/vnd.jupyter.widget-view+json": {
       "model_id": "e1314aee0e384eb6926d64cdba45a5bf",
       "version_major": 2,
       "version_minor": 0
      },
      "text/plain": [
       "Embedding documents:   0%|          | 0/1 [00:00<?, ?doc/s]"
      ]
     },
     "metadata": {},
     "output_type": "display_data"
    },
    {
     "name": "stderr",
     "output_type": "stream",
     "text": [
      "INFO:src.ingestion.HuggingFaceEmbedder:Successfully embedded 1/1 documents\n",
      "INFO:src.ingestion.HuggingFaceEmbedder:Embedding 1 documents with model 'sentence-transformers/all-mpnet-base-v2'\n"
     ]
    },
    {
     "name": "stdout",
     "output_type": "stream",
     "text": [
      "[METRICS] embed_documents: time=0.89s, count=369\n"
     ]
    },
    {
     "data": {
      "application/vnd.jupyter.widget-view+json": {
       "model_id": "9fa0b85e6c8c44b180e8574f64cd606b",
       "version_major": 2,
       "version_minor": 0
      },
      "text/plain": [
       "Embedding documents:   0%|          | 0/1 [00:00<?, ?doc/s]"
      ]
     },
     "metadata": {},
     "output_type": "display_data"
    },
    {
     "name": "stderr",
     "output_type": "stream",
     "text": [
      "INFO:src.ingestion.HuggingFaceEmbedder:Successfully embedded 1/1 documents\n",
      "INFO:src.ingestion.HuggingFaceEmbedder:Embedding 1 documents with model 'sentence-transformers/all-mpnet-base-v2'\n"
     ]
    },
    {
     "name": "stdout",
     "output_type": "stream",
     "text": [
      "[METRICS] embed_documents: time=1.25s, count=383\n"
     ]
    },
    {
     "data": {
      "application/vnd.jupyter.widget-view+json": {
       "model_id": "e05b733686974d89a325038b88e300ac",
       "version_major": 2,
       "version_minor": 0
      },
      "text/plain": [
       "Embedding documents:   0%|          | 0/1 [00:00<?, ?doc/s]"
      ]
     },
     "metadata": {},
     "output_type": "display_data"
    },
    {
     "name": "stderr",
     "output_type": "stream",
     "text": [
      "INFO:src.ingestion.HuggingFaceEmbedder:Successfully embedded 1/1 documents\n",
      "INFO:src.ingestion.HuggingFaceEmbedder:Embedding 1 documents with model 'sentence-transformers/all-mpnet-base-v2'\n"
     ]
    },
    {
     "name": "stdout",
     "output_type": "stream",
     "text": [
      "[METRICS] embed_documents: time=0.94s, count=386\n"
     ]
    },
    {
     "data": {
      "application/vnd.jupyter.widget-view+json": {
       "model_id": "854139219ca64dcd9359bfd6f06976d0",
       "version_major": 2,
       "version_minor": 0
      },
      "text/plain": [
       "Embedding documents:   0%|          | 0/1 [00:00<?, ?doc/s]"
      ]
     },
     "metadata": {},
     "output_type": "display_data"
    },
    {
     "name": "stderr",
     "output_type": "stream",
     "text": [
      "INFO:src.ingestion.HuggingFaceEmbedder:Successfully embedded 1/1 documents\n",
      "INFO:src.ingestion.HuggingFaceEmbedder:Embedding 1 documents with model 'sentence-transformers/all-mpnet-base-v2'\n"
     ]
    },
    {
     "name": "stdout",
     "output_type": "stream",
     "text": [
      "[METRICS] embed_documents: time=0.70s, count=290\n"
     ]
    },
    {
     "data": {
      "application/vnd.jupyter.widget-view+json": {
       "model_id": "7c7cc3be592643f090f67cfdade98bf1",
       "version_major": 2,
       "version_minor": 0
      },
      "text/plain": [
       "Embedding documents:   0%|          | 0/1 [00:00<?, ?doc/s]"
      ]
     },
     "metadata": {},
     "output_type": "display_data"
    },
    {
     "name": "stderr",
     "output_type": "stream",
     "text": [
      "INFO:src.ingestion.HuggingFaceEmbedder:Successfully embedded 1/1 documents\n",
      "INFO:src.ingestion.HuggingFaceEmbedder:Embedding 1 documents with model 'sentence-transformers/all-mpnet-base-v2'\n"
     ]
    },
    {
     "name": "stdout",
     "output_type": "stream",
     "text": [
      "[METRICS] embed_documents: time=0.92s, count=386\n"
     ]
    },
    {
     "data": {
      "application/vnd.jupyter.widget-view+json": {
       "model_id": "9b92c3e6168742469cd53759eef40419",
       "version_major": 2,
       "version_minor": 0
      },
      "text/plain": [
       "Embedding documents:   0%|          | 0/1 [00:00<?, ?doc/s]"
      ]
     },
     "metadata": {},
     "output_type": "display_data"
    },
    {
     "name": "stderr",
     "output_type": "stream",
     "text": [
      "INFO:src.ingestion.HuggingFaceEmbedder:Successfully embedded 1/1 documents\n",
      "INFO:src.ingestion.HuggingFaceEmbedder:Embedding 1 documents with model 'sentence-transformers/all-mpnet-base-v2'\n"
     ]
    },
    {
     "name": "stdout",
     "output_type": "stream",
     "text": [
      "[METRICS] embed_documents: time=0.59s, count=266\n"
     ]
    },
    {
     "data": {
      "application/vnd.jupyter.widget-view+json": {
       "model_id": "a46e237c541e4946b918083df64b58a2",
       "version_major": 2,
       "version_minor": 0
      },
      "text/plain": [
       "Embedding documents:   0%|          | 0/1 [00:00<?, ?doc/s]"
      ]
     },
     "metadata": {},
     "output_type": "display_data"
    },
    {
     "name": "stderr",
     "output_type": "stream",
     "text": [
      "INFO:src.ingestion.HuggingFaceEmbedder:Successfully embedded 1/1 documents\n",
      "INFO:src.ingestion.HuggingFaceEmbedder:Embedding 1 documents with model 'sentence-transformers/all-mpnet-base-v2'\n"
     ]
    },
    {
     "name": "stdout",
     "output_type": "stream",
     "text": [
      "[METRICS] embed_documents: time=0.84s, count=386\n"
     ]
    },
    {
     "data": {
      "application/vnd.jupyter.widget-view+json": {
       "model_id": "3e97e7135b9a4e66892b8721b4f9efa1",
       "version_major": 2,
       "version_minor": 0
      },
      "text/plain": [
       "Embedding documents:   0%|          | 0/1 [00:00<?, ?doc/s]"
      ]
     },
     "metadata": {},
     "output_type": "display_data"
    },
    {
     "name": "stderr",
     "output_type": "stream",
     "text": [
      "INFO:src.ingestion.HuggingFaceEmbedder:Successfully embedded 1/1 documents\n",
      "INFO:src.ingestion.HuggingFaceEmbedder:Embedding 1 documents with model 'sentence-transformers/all-mpnet-base-v2'\n"
     ]
    },
    {
     "name": "stdout",
     "output_type": "stream",
     "text": [
      "[METRICS] embed_documents: time=0.28s, count=115\n"
     ]
    },
    {
     "data": {
      "application/vnd.jupyter.widget-view+json": {
       "model_id": "2f02aac80aee4664a75ff4560e01d60c",
       "version_major": 2,
       "version_minor": 0
      },
      "text/plain": [
       "Embedding documents:   0%|          | 0/1 [00:00<?, ?doc/s]"
      ]
     },
     "metadata": {},
     "output_type": "display_data"
    },
    {
     "name": "stderr",
     "output_type": "stream",
     "text": [
      "INFO:src.ingestion.HuggingFaceEmbedder:Successfully embedded 1/1 documents\n",
      "INFO:src.ingestion.HuggingFaceEmbedder:Embedding 1 documents with model 'sentence-transformers/all-mpnet-base-v2'\n"
     ]
    },
    {
     "name": "stdout",
     "output_type": "stream",
     "text": [
      "[METRICS] embed_documents: time=1.02s, count=386\n"
     ]
    },
    {
     "data": {
      "application/vnd.jupyter.widget-view+json": {
       "model_id": "dc0dbb78b5084752bc31056ee14fd3a5",
       "version_major": 2,
       "version_minor": 0
      },
      "text/plain": [
       "Embedding documents:   0%|          | 0/1 [00:00<?, ?doc/s]"
      ]
     },
     "metadata": {},
     "output_type": "display_data"
    },
    {
     "name": "stderr",
     "output_type": "stream",
     "text": [
      "INFO:src.ingestion.HuggingFaceEmbedder:Successfully embedded 1/1 documents\n",
      "INFO:src.ingestion.HuggingFaceEmbedder:Embedding 1 documents with model 'sentence-transformers/all-mpnet-base-v2'\n"
     ]
    },
    {
     "name": "stdout",
     "output_type": "stream",
     "text": [
      "[METRICS] embed_documents: time=0.84s, count=386\n"
     ]
    },
    {
     "data": {
      "application/vnd.jupyter.widget-view+json": {
       "model_id": "574600d836314a15b594cad34824d2b8",
       "version_major": 2,
       "version_minor": 0
      },
      "text/plain": [
       "Embedding documents:   0%|          | 0/1 [00:00<?, ?doc/s]"
      ]
     },
     "metadata": {},
     "output_type": "display_data"
    },
    {
     "name": "stderr",
     "output_type": "stream",
     "text": [
      "INFO:src.ingestion.HuggingFaceEmbedder:Successfully embedded 1/1 documents\n",
      "INFO:src.ingestion.HuggingFaceEmbedder:Embedding 1 documents with model 'sentence-transformers/all-mpnet-base-v2'\n"
     ]
    },
    {
     "name": "stdout",
     "output_type": "stream",
     "text": [
      "[METRICS] embed_documents: time=0.37s, count=164\n"
     ]
    },
    {
     "data": {
      "application/vnd.jupyter.widget-view+json": {
       "model_id": "7fb902b98e4445a9bd7f22707d9a9f3a",
       "version_major": 2,
       "version_minor": 0
      },
      "text/plain": [
       "Embedding documents:   0%|          | 0/1 [00:00<?, ?doc/s]"
      ]
     },
     "metadata": {},
     "output_type": "display_data"
    },
    {
     "name": "stderr",
     "output_type": "stream",
     "text": [
      "INFO:src.ingestion.HuggingFaceEmbedder:Successfully embedded 1/1 documents\n",
      "INFO:src.ingestion.HuggingFaceEmbedder:Embedding 1 documents with model 'sentence-transformers/all-mpnet-base-v2'\n"
     ]
    },
    {
     "name": "stdout",
     "output_type": "stream",
     "text": [
      "[METRICS] embed_documents: time=1.01s, count=386\n"
     ]
    },
    {
     "data": {
      "application/vnd.jupyter.widget-view+json": {
       "model_id": "c074dd39fcef4379a34ffcc5869243ef",
       "version_major": 2,
       "version_minor": 0
      },
      "text/plain": [
       "Embedding documents:   0%|          | 0/1 [00:00<?, ?doc/s]"
      ]
     },
     "metadata": {},
     "output_type": "display_data"
    },
    {
     "name": "stderr",
     "output_type": "stream",
     "text": [
      "INFO:src.ingestion.HuggingFaceEmbedder:Successfully embedded 1/1 documents\n",
      "INFO:src.ingestion.HuggingFaceEmbedder:Embedding 1 documents with model 'sentence-transformers/all-mpnet-base-v2'\n"
     ]
    },
    {
     "name": "stdout",
     "output_type": "stream",
     "text": [
      "[METRICS] embed_documents: time=0.44s, count=212\n"
     ]
    },
    {
     "data": {
      "application/vnd.jupyter.widget-view+json": {
       "model_id": "1e9e77be0c104fd88519e5c7a5771046",
       "version_major": 2,
       "version_minor": 0
      },
      "text/plain": [
       "Embedding documents:   0%|          | 0/1 [00:00<?, ?doc/s]"
      ]
     },
     "metadata": {},
     "output_type": "display_data"
    },
    {
     "name": "stderr",
     "output_type": "stream",
     "text": [
      "INFO:src.ingestion.HuggingFaceEmbedder:Successfully embedded 1/1 documents\n",
      "INFO:src.ingestion.HuggingFaceEmbedder:Embedding 1 documents with model 'sentence-transformers/all-mpnet-base-v2'\n"
     ]
    },
    {
     "name": "stdout",
     "output_type": "stream",
     "text": [
      "[METRICS] embed_documents: time=0.84s, count=386\n"
     ]
    },
    {
     "data": {
      "application/vnd.jupyter.widget-view+json": {
       "model_id": "569522aace424333ad79568213460715",
       "version_major": 2,
       "version_minor": 0
      },
      "text/plain": [
       "Embedding documents:   0%|          | 0/1 [00:00<?, ?doc/s]"
      ]
     },
     "metadata": {},
     "output_type": "display_data"
    },
    {
     "name": "stderr",
     "output_type": "stream",
     "text": [
      "INFO:src.ingestion.HuggingFaceEmbedder:Successfully embedded 1/1 documents\n",
      "INFO:src.ingestion.HuggingFaceEmbedder:Embedding 1 documents with model 'sentence-transformers/all-mpnet-base-v2'\n"
     ]
    },
    {
     "name": "stdout",
     "output_type": "stream",
     "text": [
      "[METRICS] embed_documents: time=0.32s, count=110\n"
     ]
    },
    {
     "data": {
      "application/vnd.jupyter.widget-view+json": {
       "model_id": "ae8ce50b0f1a427bab277c89cdef9e10",
       "version_major": 2,
       "version_minor": 0
      },
      "text/plain": [
       "Embedding documents:   0%|          | 0/1 [00:00<?, ?doc/s]"
      ]
     },
     "metadata": {},
     "output_type": "display_data"
    },
    {
     "name": "stderr",
     "output_type": "stream",
     "text": [
      "INFO:src.ingestion.HuggingFaceEmbedder:Successfully embedded 1/1 documents\n",
      "INFO:src.ingestion.HuggingFaceEmbedder:Embedding 1 documents with model 'sentence-transformers/all-mpnet-base-v2'\n"
     ]
    },
    {
     "name": "stdout",
     "output_type": "stream",
     "text": [
      "[METRICS] embed_documents: time=0.83s, count=386\n"
     ]
    },
    {
     "data": {
      "application/vnd.jupyter.widget-view+json": {
       "model_id": "c9d5a474694f427ab7055e76fe6df80f",
       "version_major": 2,
       "version_minor": 0
      },
      "text/plain": [
       "Embedding documents:   0%|          | 0/1 [00:00<?, ?doc/s]"
      ]
     },
     "metadata": {},
     "output_type": "display_data"
    },
    {
     "name": "stderr",
     "output_type": "stream",
     "text": [
      "INFO:src.ingestion.HuggingFaceEmbedder:Successfully embedded 1/1 documents\n",
      "INFO:src.ingestion.HuggingFaceEmbedder:Embedding 1 documents with model 'sentence-transformers/all-mpnet-base-v2'\n"
     ]
    },
    {
     "name": "stdout",
     "output_type": "stream",
     "text": [
      "[METRICS] embed_documents: time=0.54s, count=279\n"
     ]
    },
    {
     "data": {
      "application/vnd.jupyter.widget-view+json": {
       "model_id": "a1a2fcc611154d9d855d9e22fb655437",
       "version_major": 2,
       "version_minor": 0
      },
      "text/plain": [
       "Embedding documents:   0%|          | 0/1 [00:00<?, ?doc/s]"
      ]
     },
     "metadata": {},
     "output_type": "display_data"
    },
    {
     "name": "stderr",
     "output_type": "stream",
     "text": [
      "INFO:src.ingestion.HuggingFaceEmbedder:Successfully embedded 1/1 documents\n",
      "INFO:src.ingestion.HuggingFaceEmbedder:Embedding 1 documents with model 'sentence-transformers/all-mpnet-base-v2'\n"
     ]
    },
    {
     "name": "stdout",
     "output_type": "stream",
     "text": [
      "[METRICS] embed_documents: time=0.85s, count=386\n"
     ]
    },
    {
     "data": {
      "application/vnd.jupyter.widget-view+json": {
       "model_id": "afb7361868cd40159ed163017e4b20c2",
       "version_major": 2,
       "version_minor": 0
      },
      "text/plain": [
       "Embedding documents:   0%|          | 0/1 [00:00<?, ?doc/s]"
      ]
     },
     "metadata": {},
     "output_type": "display_data"
    },
    {
     "name": "stderr",
     "output_type": "stream",
     "text": [
      "INFO:src.ingestion.HuggingFaceEmbedder:Successfully embedded 1/1 documents\n",
      "INFO:src.ingestion.VectorStoreManager:Added 88 documents to 'index'\n"
     ]
    },
    {
     "name": "stdout",
     "output_type": "stream",
     "text": [
      "[METRICS] embed_documents: time=0.47s, count=203\n",
      "[METRICS] add_documents: time=77.86s, count=88\n"
     ]
    },
    {
     "data": {
      "text/plain": [
       "['63d838ee-78cd-45b8-af93-226a74c4d2b5',\n",
       " '1ef52a96-48f5-4124-80a8-f3a2abe09be9',\n",
       " '9bf4de6c-19af-4c7c-99c3-ba376b6d7c2b',\n",
       " 'c0040e18-c85d-473f-87a1-80a2f34b1eba',\n",
       " '0c519145-6db0-4cf3-bda3-4528fb05f9a8',\n",
       " 'd69e49af-738f-4366-a25a-65d4e1942508',\n",
       " '9d7945b3-8998-480e-b3e6-4a651a9fc472',\n",
       " 'ec848d3b-be3a-4b9e-85d9-f7b4951b80e2',\n",
       " '9b27b542-6e30-422e-a282-1c6b9a4aa509',\n",
       " '9b90b154-853f-4bd7-917e-ff7a7c45446c',\n",
       " '3bb06f79-e803-4025-9d3a-68379ca5d0e3',\n",
       " '9d4a2f52-e54d-429e-bd7e-c377b6748910',\n",
       " '2a69635c-ec0c-4c00-8c3d-2555148a4e33',\n",
       " 'f8831c58-3cba-4765-bbcd-0d7731ffd4e8',\n",
       " '11fe2f42-fde7-4558-827d-52ff7043437a',\n",
       " '949348df-9138-4a17-9755-a3a0a6c6b315',\n",
       " '31807813-c912-4e7d-9630-6fa899cee4a3',\n",
       " '57e10dde-c34e-449f-900f-920d57c9ae8d',\n",
       " '4b90a600-21c1-4fbb-b43b-86f65bd841b7',\n",
       " 'e845dfcb-43cc-4133-8539-8a5774d93177',\n",
       " 'db35dd6f-fa6e-42b9-bbba-82f24fc80742',\n",
       " 'd8f80142-5b44-4f60-a33c-fb3ec752a7a0',\n",
       " 'ca186dbb-c1f0-4d8b-a2ce-068e62f71f11',\n",
       " 'df4660ed-e267-497f-aa95-64efbce749ef',\n",
       " '87390c73-4db9-4505-92eb-0cbfd635c369',\n",
       " '805a3426-876f-4e11-a3c5-acce853fdfc3',\n",
       " '340a9271-e7da-426d-a88e-f157694c65c8',\n",
       " '796a50af-7c3e-4104-a146-11a4d3bc4000',\n",
       " '56daa481-267f-44e8-bfec-10cfd4f6a1d8',\n",
       " '4ba6d2a3-4d11-45ff-a757-eaf6f0b47c36',\n",
       " '3bae5fbf-dcf3-4a74-a8e7-f5d08f350c77',\n",
       " '1474c325-1577-431c-99fb-fc65d3743d21',\n",
       " 'b5499031-37db-4d78-b68d-87ff901ed3b7',\n",
       " '36d0f6d7-f94a-4266-8ca8-13959276890b',\n",
       " '497454ee-00e8-40f1-a719-7b4e9bb66149',\n",
       " 'da44ac7b-7898-416f-b6dd-8ff3b86d3004',\n",
       " 'da1283d7-0460-45b9-9cb1-71aee84aa0d5',\n",
       " 'c3cf8bff-bce5-4a66-83a4-17ffc16286a9',\n",
       " '3826ee9c-2ce2-490f-975a-80fdce07d00b',\n",
       " '01d3706c-332f-42b4-9765-c3c323d29a11',\n",
       " 'e29eea3a-4d70-4870-9182-b44410d6e2b5',\n",
       " 'f9bc4943-a652-49a7-9bd5-720b8602c352',\n",
       " '5901fcc3-f43d-4fc1-8021-137905261d24',\n",
       " '6aeb571b-335b-4af7-907e-bc57e76e0be1',\n",
       " '9e1f666d-56df-43c8-91e4-282ede53e301',\n",
       " '07145df9-9e02-45ec-8788-da08d6a0edb4',\n",
       " 'fe546c14-bf98-47d5-83ea-e633cd371177',\n",
       " '588d53fa-e76f-4276-9eb9-26d69cc880f5',\n",
       " 'b1ce6b30-c08f-462f-87dd-0a56c505049c',\n",
       " 'dc550e11-ce69-4864-bfc8-4339745a6719',\n",
       " 'e7ad6ef6-3c86-4b29-bec3-c4a8b8121f74',\n",
       " '44e4710e-b544-4fb7-9aa7-afae02d143fc',\n",
       " 'b7dd43e6-3dc4-4fde-9d57-cfa78a3756a2',\n",
       " '593f4bdf-5e4b-4a5f-a065-15a84b662378',\n",
       " 'dd86d3b4-b270-49d2-8e71-9c40f9e32220',\n",
       " '9aeaef94-edfe-4c6f-b6f6-44bdccc3fcc1',\n",
       " '78e15262-a7a1-40f8-ae0b-0caa7e363044',\n",
       " '7671a25b-ed2b-4603-85cd-94db398d841c',\n",
       " 'a597e7c8-7979-4fd1-8328-6bb2fde34cf4',\n",
       " 'f7c96148-856c-48d3-bfa6-ce7ecfe8b766',\n",
       " '23a3c08b-1a97-495e-8456-530aaf797ce9',\n",
       " 'd1ec6849-6e69-44c7-ac7d-10ad85489069',\n",
       " '793a2bbf-50c4-4c6a-a8b3-8bb2b7704e60',\n",
       " 'af953542-340a-4887-8229-068f35c957af',\n",
       " 'cad0289a-b640-4e53-9753-59f8c22e7ba5',\n",
       " '46e0cfa8-3e98-46c3-9e5b-283b1a635957',\n",
       " 'e826be2c-6397-4a46-8287-d39fd7a837a1',\n",
       " '739b54b0-a2f0-4ac9-b73e-a034fdd78612',\n",
       " '53ac5ba0-f4f2-4074-b0b9-9e5fb5f75d01',\n",
       " 'b66a8960-d140-4287-88ee-b48ca6f69987',\n",
       " '09773dd5-0c61-4a27-8af9-a6036e2536bb',\n",
       " 'f3f45689-f6d2-4f46-8f00-8ca9efab3614',\n",
       " '9c74ea8c-e616-4b07-98e3-6406a468dafd',\n",
       " '5d0f3098-04c1-44ac-ba56-5d07d46f0b2f',\n",
       " '2a893286-2397-48bf-b6e3-b241ce1e2b25',\n",
       " 'baac55a2-514f-4f76-865d-31e0d0f45b57',\n",
       " 'bf27cf6f-ed58-41a5-b533-2187c80c60b9',\n",
       " '8c2af52b-7748-457d-979c-7bda487d83fb',\n",
       " 'a00102a4-87fd-4f2b-8db0-1075b81fbbe1',\n",
       " '9f4a5a62-5b25-43b5-8d19-42bfae5eb139',\n",
       " 'f9e60035-4c18-4878-a41a-df1b46434581',\n",
       " '707deace-7547-4d32-af35-3ebf57fa4430',\n",
       " '6add9706-3365-4d27-852e-68ffa5ee5d3e',\n",
       " '86479884-1c29-43c1-b9d3-d97b4748ffac',\n",
       " 'a7085d23-64d8-4a29-95c3-d4d736b13537',\n",
       " '4dc38640-497e-446e-ad0f-7d921228017d',\n",
       " 'ee3c6c9e-2694-4945-8dfb-8406f94e570e',\n",
       " '9fcf5f4d-216e-4483-be1e-5f34651989d5']"
      ]
     },
     "execution_count": 20,
     "metadata": {},
     "output_type": "execute_result"
    }
   ],
   "source": [
    "vsm.add_documents(chunks)"
   ]
  },
  {
   "cell_type": "code",
   "execution_count": null,
   "id": "81fa5974",
   "metadata": {},
   "outputs": [
    {
     "name": "stderr",
     "output_type": "stream",
     "text": [
      "INFO:src.ingestion.VectorStoreManager:Saved index 'index' to '/home/ashmit/work/SEM_VIII/EnhancedRAG/context/faiss_indexes'\n"
     ]
    }
   ],
   "source": [
    "# vsm.save_local()"
   ]
  },
  {
   "cell_type": "code",
   "execution_count": null,
   "id": "edf5bb3e",
   "metadata": {},
   "outputs": [
    {
     "name": "stderr",
     "output_type": "stream",
     "text": [
      "INFO:src.ingestion.VectorStoreManager:Loaded index 'index' from disk\n"
     ]
    }
   ],
   "source": [
    "# vsm.load_local(allow_pickle=True)"
   ]
  },
  {
   "cell_type": "markdown",
   "id": "a4f5d957",
   "metadata": {},
   "source": [
    "### Retrieval"
   ]
  },
  {
   "cell_type": "code",
   "execution_count": 21,
   "id": "3d8afcd7",
   "metadata": {},
   "outputs": [
    {
     "name": "stdout",
     "output_type": "stream",
     "text": [
      "[METRICS] embed_query: time=0.08s, count=6\n",
      "[METRICS] similarity_search_with_score: time=0.09s, count=2\n"
     ]
    }
   ],
   "source": [
    "retrieved = vsm.similarity_search_with_score(query=\"experience at dolf\", k=2)"
   ]
  },
  {
   "cell_type": "code",
   "execution_count": 26,
   "id": "bfaf2249",
   "metadata": {},
   "outputs": [
    {
     "name": "stderr",
     "output_type": "stream",
     "text": [
      "INFO:src.ingestion.VectorStoreManager:Created retriever for 'index' with {'search_type': 'similarity', 'search_kwargs': {'k': 2}}\n"
     ]
    }
   ],
   "source": [
    "retriever = vsm.retriever(search_type = \"similarity\", search_kwargs = {\"k\":2})"
   ]
  },
  {
   "cell_type": "code",
   "execution_count": 23,
   "id": "a4088866",
   "metadata": {},
   "outputs": [
    {
     "name": "stdout",
     "output_type": "stream",
     "text": [
      "[METRICS] embed_query: time=0.17s, count=8\n"
     ]
    }
   ],
   "source": [
    "retrieved = retriever.invoke(\"projects by snakalp\")"
   ]
  },
  {
   "cell_type": "code",
   "execution_count": 24,
   "id": "fc659565",
   "metadata": {},
   "outputs": [
    {
     "data": {
      "text/plain": [
       "['- time recommendations, graph - based search or supply - chain management, be sure to review all the different ways in which graph technology can work for your company. and while our customers span several continents and professional fields, they all agree that using the neo4j graph database is a critical component of their business success and competitiveness. are you a developer eager to learn more about making the switch? with so many ways to quickly get started, mastering graph database development is one of the best time investments you can make. other resources videos : • intro to neo4j and graph databases • intro to graph databases episode # 1 - evolution of dbs books : • o ’ reilly book : graph databases • learning neo4j trainings : • online training : getting started with neo4j • classroom trainings whether you need a solution that provides real - time recommendations, graph - based search or supply - chain management, be sure to review all the different ways in which graph technology can work for your company.',\n",
       " 'data, especially if they ’ re tackling a graph - based problem. if your team comes from an sql background, a query language like cypher will be easy to learn and even easier to execute. and when it comes to your enterprise - level application, you ’ ll be glad that the language underpinning it all is build for speed and efficiency. if your team comes from an sql background, a query language like cypher will be easy to learn and even easier to execute. and when it comes to your enterprise - level application, you ’ ll be glad that the language underpinning it all is build for speed and efficiency.']"
      ]
     },
     "execution_count": 24,
     "metadata": {},
     "output_type": "execute_result"
    }
   ],
   "source": [
    "texts = [ret.page_content for ret in retrieved]\n",
    "texts"
   ]
  },
  {
   "cell_type": "markdown",
   "id": "a1fedc8e",
   "metadata": {},
   "source": [
    "### Supported LLMs (as of 06/05/2025)"
   ]
  },
  {
   "cell_type": "code",
   "execution_count": null,
   "id": "d5ebcd51",
   "metadata": {},
   "outputs": [],
   "source": [
    "hf_llms=[\n",
    "    \"meta-llama/Llama-3.1-8B-Instruct\",\n",
    "    \"meta-llama/Llama-3.3-70B-Instruct\",\n",
    "    \"deepseek-ai/DeepSeek-R1-Distill-Qwen-32B\",\n",
    "    \"mistralai/Mistral-7B-Instruct-v0.3\",\n",
    "    \"nvidia/Llama-3.1-Nemotron-70B-Instruct-HF\"\n",
    "]"
   ]
  },
  {
   "cell_type": "code",
   "execution_count": 56,
   "id": "5f9368be",
   "metadata": {},
   "outputs": [],
   "source": [
    "from huggingface_hub import InferenceClient\n",
    "from config.settings import settings\n",
    "\n",
    "client = InferenceClient(\n",
    "    provider=\"hf-inference\",\n",
    "    api_key=settings.HF_TOKEN.get_secret_value(),\n",
    ")\n",
    "\n",
    "def get_answer(\n",
    "    sys_prompt: str,\n",
    "    query: str,\n",
    "    model: str = \"nvidia/Llama-3.1-Nemotron-70B-Instruct-HF\"\n",
    ") -> str:\n",
    "    \"\"\"\n",
    "    Send a system + user prompt to the specified model via HF Inference,\n",
    "    returning the assistant’s content string.\n",
    "    \"\"\"\n",
    "    response = client.chat.completions.create(\n",
    "        model=model,\n",
    "        messages=[\n",
    "            {\"role\": \"system\", \"content\": sys_prompt},\n",
    "            {\"role\": \"user\",   \"content\": query}\n",
    "        ]\n",
    "    )\n",
    "    return response.choices[0].message.content\n"
   ]
  },
  {
   "cell_type": "code",
   "execution_count": 57,
   "id": "01a5776d",
   "metadata": {},
   "outputs": [
    {
     "data": {
      "text/plain": [
       "'A concise question about Westeros! Here are the **Top Houses in Game of Thrones**, in no particular order, highlighting their **Sigil**, **Motto**, and **Notable Members**:\\n\\n1. **House Stark**\\n\\t* **Sigil**: Direwolf\\n\\t* **Motto**: \"Winter is Coming\"\\n\\t* **Notable Members**: Eddard (Ned), Robb, Sansa, Arya, Bran, Jon Snow\\n\\n2. **House Lannister**\\n\\t* **Sigil**: Lion\\n\\t* **Motto**: \"Hear Me Roar!\"\\n\\t* **Notable Members**: Cersei, Jaime, Tyrion, Tywin, Kevan\\n\\n3. **House Targaryen**\\n\\t* **Sigil**: Dragon\\n\\t* **Motto**: \"Fire and Blood\"\\n\\t* **Notable Members**: Daenerys, Viserys, Rhaegar, Aerys II (Mad King), Jon Snow (Aegon Targaryen)\\n\\n4. **House Baratheon**\\n\\t* **Sigil**: Stag\\n\\t* **Motto**: \"Ours is the Fury\"\\n\\t* **Notable Members**: Robert, Stannis, Renly, Joffrey, Myrcella, Tommen\\n\\n5. **House Tyrell**\\n\\t* **Sigil**: Rose\\n\\t* **Motto**: \"Growing Strong\"\\n\\t* **Notable Members**: Mace, Loras, Margaery, Olenna (Queen of Thorns)\\n\\n6. **House Greyjoy**\\n\\t* **Sigil**: Kraken\\n\\t* **Motto**: \"We Do Not Sow\"\\n\\t* **Notable Members**: Balon, Yara, Theon, Euron\\n\\n7. **House Arryn**\\n\\t* **Sigil**: Falcon\\n\\t* **Motto**: \"As High as Honor\"\\n\\t* **Notable Members**: Jon Arryn, Lysa, Robin, Yohn Royce (conditional ally)\\n\\n8. **House Martell**\\n\\t* **Sigil**: Spear\\n\\t* **Motto**: \"Unbowed, Unbent, Unbroken\"\\n\\t* **Notable Members**: Oberyn, Ellaria, Doran, Trystane, Arianne\\n\\nThese houses are central to the plot and power struggles throughout the series. Of course, there are many other influential houses in the world of Game of Thrones, but these are generally considered the most pivotal.'"
      ]
     },
     "execution_count": 57,
     "metadata": {},
     "output_type": "execute_result"
    }
   ],
   "source": [
    "get_answer(sys_prompt=\"you are a helpful assistant who answers the users query concisely\", query=\"what are the top houses in game of thrones\")"
   ]
  },
  {
   "cell_type": "markdown",
   "id": "2e5e802c",
   "metadata": {},
   "source": [
    "### Generation Pipeline"
   ]
  },
  {
   "cell_type": "code",
   "execution_count": 27,
   "id": "ce481ead",
   "metadata": {},
   "outputs": [],
   "source": [
    "from src.generation.HuggingFaceLLM import HuggingFaceLLM"
   ]
  },
  {
   "cell_type": "code",
   "execution_count": 28,
   "id": "bd369d60",
   "metadata": {},
   "outputs": [],
   "source": [
    "pg_llm = HuggingFaceLLM(model_name=\"meta-llama/Llama-3.1-8B-Instruct\")"
   ]
  },
  {
   "cell_type": "code",
   "execution_count": 29,
   "id": "c9663d3f",
   "metadata": {},
   "outputs": [],
   "source": [
    "# pg_llm.get_answer(sys_prompt=\"you are a helpful assistant that answers concisely\", user_prompt=\"what is quantum computing ?\", max_tokens = 200)"
   ]
  },
  {
   "cell_type": "code",
   "execution_count": 30,
   "id": "3192ad39",
   "metadata": {},
   "outputs": [],
   "source": [
    "from src.generation.PromptAugmentor import PromptAugmentor"
   ]
  },
  {
   "cell_type": "code",
   "execution_count": 31,
   "id": "78dd5174",
   "metadata": {},
   "outputs": [],
   "source": [
    "augmentor = PromptAugmentor(client=pg_llm)"
   ]
  },
  {
   "cell_type": "code",
   "execution_count": 32,
   "id": "3aad6d27",
   "metadata": {},
   "outputs": [
    {
     "name": "stderr",
     "output_type": "stream",
     "text": [
      "INFO:src.generation.PromptAugmentor:Requesting synthetic prompt 1/2\n",
      "INFO:src.generation.HuggingFaceLLM:get_answer called\n",
      "INFO:src.generation.HuggingFaceLLM:API call successful: model=meta-llama/Llama-3.1-8B-Instruct messages=2\n",
      "INFO:src.generation.HuggingFaceLLM:get_answer returning 136 characters\n",
      "INFO:src.generation.PromptAugmentor:Generated prompt #1: 'What is the key difference between a Graph Database and a traditional Vector Database in terms of data structure and query capabilities?'\n",
      "INFO:src.generation.PromptAugmentor:Requesting synthetic prompt 2/2\n",
      "INFO:src.generation.HuggingFaceLLM:get_answer called\n",
      "INFO:src.generation.HuggingFaceLLM:API call successful: model=meta-llama/Llama-3.1-8B-Instruct messages=2\n",
      "INFO:src.generation.HuggingFaceLLM:get_answer returning 102 characters\n",
      "INFO:src.generation.PromptAugmentor:Generated prompt #2: 'What are the primary use cases for Graph Databases versus Vector Databases in real-world applications?'\n"
     ]
    },
    {
     "data": {
      "text/plain": [
       "['What is the key difference between a Graph Database and a traditional Vector Database in terms of data structure and query capabilities?',\n",
       " 'What are the primary use cases for Graph Databases versus Vector Databases in real-world applications?',\n",
       " 'what is a graph db and how is it different from a regular VectorDB ?']"
      ]
     },
     "execution_count": 32,
     "metadata": {},
     "output_type": "execute_result"
    }
   ],
   "source": [
    "prompts = augmentor.generate(query=\"what is a graph db and how is it different from a regular VectorDB ?\", synthetic_count=2)\n",
    "prompts"
   ]
  },
  {
   "cell_type": "code",
   "execution_count": 33,
   "id": "619c97da",
   "metadata": {},
   "outputs": [
    {
     "name": "stderr",
     "output_type": "stream",
     "text": [
      "INFO:src.ingestion.VectorStoreManager:Created retriever for 'index' with {'search_type': 'similarity', 'search_kwargs': {'k': 4}}\n"
     ]
    },
    {
     "name": "stdout",
     "output_type": "stream",
     "text": [
      "[METRICS] embed_query: time=0.14s, count=25\n",
      "[METRICS] embed_query: time=0.23s, count=20\n",
      "[METRICS] embed_query: time=0.28s, count=18\n"
     ]
    }
   ],
   "source": [
    "retriever = vsm.retriever(search_type=\"similarity\", search_kwargs={\"k\": 4})\n",
    "prompt_chunks = [(p, retriever.invoke(p)) for p in prompts]"
   ]
  },
  {
   "cell_type": "code",
   "execution_count": 46,
   "id": "43d93531",
   "metadata": {},
   "outputs": [],
   "source": [
    "from src.generation.Fusion import FusionSummarizer\n",
    "from src.generation.Prompts import Prompts"
   ]
  },
  {
   "cell_type": "code",
   "execution_count": 47,
   "id": "9161b7d4",
   "metadata": {},
   "outputs": [],
   "source": [
    "fusion_summarizer = FusionSummarizer(fusion_llm=pg_llm,sys_prompt=Prompts.MERGE_FUSION_SYS_PROMPT)"
   ]
  },
  {
   "cell_type": "code",
   "execution_count": 48,
   "id": "72f3d459",
   "metadata": {},
   "outputs": [
    {
     "name": "stderr",
     "output_type": "stream",
     "text": [
      "INFO:src.generation.Fusion:Generating summary for prompt 1: 'What is the key difference between a Graph Databas...'\n",
      "INFO:src.generation.HuggingFaceLLM:get_answer called\n",
      "INFO:src.generation.HuggingFaceLLM:API call successful: model=meta-llama/Llama-3.1-8B-Instruct messages=2\n",
      "INFO:src.generation.HuggingFaceLLM:get_answer returning 1111 characters\n",
      "INFO:src.generation.Fusion:Generating summary for prompt 2: 'What are the primary use cases for Graph Databases...'\n",
      "INFO:src.generation.HuggingFaceLLM:get_answer called\n",
      "INFO:src.generation.HuggingFaceLLM:API call successful: model=meta-llama/Llama-3.1-8B-Instruct messages=2\n",
      "INFO:src.generation.HuggingFaceLLM:get_answer returning 1111 characters\n",
      "INFO:src.generation.Fusion:Generating summary for prompt 3: 'what is a graph db and how is it different from a ...'\n",
      "INFO:src.generation.HuggingFaceLLM:get_answer called\n",
      "INFO:src.generation.HuggingFaceLLM:API call successful: model=meta-llama/Llama-3.1-8B-Instruct messages=2\n",
      "INFO:src.generation.HuggingFaceLLM:get_answer returning 1301 characters\n"
     ]
    }
   ],
   "source": [
    "summaries = fusion_summarizer.summarize(prompt_chunks=prompt_chunks)"
   ]
  },
  {
   "cell_type": "code",
   "execution_count": 41,
   "id": "f9858267",
   "metadata": {},
   "outputs": [],
   "source": [
    "all_summaries = \"\\n\\n\".join(summaries)"
   ]
  },
  {
   "cell_type": "code",
   "execution_count": 42,
   "id": "132c3d59",
   "metadata": {},
   "outputs": [
    {
     "name": "stderr",
     "output_type": "stream",
     "text": [
      "INFO:src.generation.HuggingFaceLLM:Creating new HuggingFaceLLM for model: meta-llama/Llama-3.3-70B-Instruct\n",
      "INFO:src.generation.HuggingFaceLLM:InferenceClient initialized for model: meta-llama/Llama-3.3-70B-Instruct\n"
     ]
    }
   ],
   "source": [
    "final_llm = HuggingFaceLLM(model_name=\"meta-llama/Llama-3.3-70B-Instruct\")"
   ]
  },
  {
   "cell_type": "code",
   "execution_count": 43,
   "id": "607a3b78",
   "metadata": {},
   "outputs": [
    {
     "name": "stderr",
     "output_type": "stream",
     "text": [
      "INFO:src.generation.HuggingFaceLLM:get_answer called\n",
      "INFO:src.generation.HuggingFaceLLM:API call successful: model=meta-llama/Llama-3.3-70B-Instruct messages=2\n",
      "INFO:src.generation.HuggingFaceLLM:get_answer returning 599 characters\n"
     ]
    }
   ],
   "source": [
    "final_answer = final_llm.get_answer(sys_prompt=Prompts.FINAL_ANS_SYS_PROMPT,user_prompt=\"User Question: \\nwhat is a graph db and how is it different from a regular VectorDB ? \\n\\n Context: \\n\"+all_summaries,max_tokens = 400, temperature = 0.7)"
   ]
  },
  {
   "cell_type": "code",
   "execution_count": 45,
   "id": "d9fdbccc",
   "metadata": {},
   "outputs": [
    {
     "name": "stdout",
     "output_type": "stream",
     "text": [
      "A graph database is an online, operational database management system that operates on a graph data model, storing data as nodes and relationships. It is different from a regular VectorDB in terms of data model, storage, and processing. Graph databases use a graph data model, native graph storage, and native graph processing, whereas VectorDBs are suited for dense, high-dimensional data and are often used in scenarios such as recommendation systems, image and speech recognition, and Natural Language Processing (NLP). Insufficient information is available to provide a more detailed comparison.\n"
     ]
    }
   ],
   "source": [
    "print(final_answer)"
   ]
  }
 ],
 "metadata": {
  "kernelspec": {
   "display_name": ".venv",
   "language": "python",
   "name": "python3"
  },
  "language_info": {
   "codemirror_mode": {
    "name": "ipython",
    "version": 3
   },
   "file_extension": ".py",
   "mimetype": "text/x-python",
   "name": "python",
   "nbconvert_exporter": "python",
   "pygments_lexer": "ipython3",
   "version": "3.12.8"
  }
 },
 "nbformat": 4,
 "nbformat_minor": 5
}
