{
 "cells": [
  {
   "cell_type": "code",
   "execution_count": 5,
   "id": "01afaaa3",
   "metadata": {},
   "outputs": [],
   "source": [
    "import os\n",
    "from typing import List\n",
    "\n",
    "def list_filenames(\n",
    "    base_dir: str,\n",
    "    recursive: bool = True\n",
    ") -> List[str]:\n",
    "    \"\"\"\n",
    "    Returns a list of filenames (excluding the base directory) under base_dir.\n",
    "\n",
    "    Args:\n",
    "        base_dir (str): Path to the directory to scan.\n",
    "        recursive (bool): If True, walk subdirectories recursively. \n",
    "                          If False, only list files in the top-level directory.\n",
    "\n",
    "    Returns:\n",
    "        List[str]: List of file paths relative to base_dir.\n",
    "    \"\"\"\n",
    "    filenames: List[str] = []\n",
    "\n",
    "    if recursive:\n",
    "        # Walk through base_dir and all subdirectories\n",
    "        for root, _, files in os.walk(base_dir):\n",
    "            for fname in files:\n",
    "                # Compute relative path\n",
    "                rel_dir = os.path.relpath(root, base_dir)\n",
    "                # If in the base directory itself, rel_dir == \".\"\n",
    "                if rel_dir == \".\":\n",
    "                    filenames.append(fname)\n",
    "                else:\n",
    "                    filenames.append(os.path.join(rel_dir, fname))\n",
    "    else:\n",
    "        # Only list files in base_dir (non-recursive)\n",
    "        for fname in os.listdir(base_dir):\n",
    "            full_path = os.path.join(base_dir, fname)\n",
    "            if os.path.isfile(full_path):\n",
    "                filenames.append(fname)\n",
    "\n",
    "    return filenames\n"
   ]
  },
  {
   "cell_type": "code",
   "execution_count": 6,
   "id": "29100569",
   "metadata": {},
   "outputs": [
    {
     "data": {
      "text/plain": [
       "['pdfs/Graph_Databases_for_Beginners.pdf',\n",
       " 'pdfs/Project_4_Sankalp_Mane.pdf',\n",
       " 'pdfs/requirements.txt']"
      ]
     },
     "execution_count": 6,
     "metadata": {},
     "output_type": "execute_result"
    }
   ],
   "source": [
    "list_filenames(\"context\")"
   ]
  }
 ],
 "metadata": {
  "kernelspec": {
   "display_name": ".venv",
   "language": "python",
   "name": "python3"
  },
  "language_info": {
   "codemirror_mode": {
    "name": "ipython",
    "version": 3
   },
   "file_extension": ".py",
   "mimetype": "text/x-python",
   "name": "python",
   "nbconvert_exporter": "python",
   "pygments_lexer": "ipython3",
   "version": "3.12.8"
  }
 },
 "nbformat": 4,
 "nbformat_minor": 5
}
